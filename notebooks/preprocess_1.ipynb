{
 "cells": [
  {
   "cell_type": "markdown",
   "metadata": {},
   "source": [
    "##### **Aloitetaan tutkimalla ja puhdistamalla dataa(Esikäsittely - Preprocess)**\n",
    "- Ladataan kaikki tarvittavat tiedosdot\n",
    "- Määritetään nille polut jossa datasetit sijaitsee\n",
    "- Teen funktion joka tulostaa **Shape, Columns, Info, datainfo, Summary, describe, null values, duplicates, missing values, duplicated rows**\n",
    "- Kirjoitan koodin viereen välillä pieni info joka vois helpottaa ihmisiä lukemaan ja ymmärtämään paremmin"
   ]
  },
  {
   "cell_type": "code",
   "execution_count": 2,
   "metadata": {},
   "outputs": [],
   "source": [
    "#Lataa tarvittavat kirjastot tähään soluun päivitä lopuksi tätä solua\n",
    "import pandas as pd\n",
    "import numpy as np\n",
    "import matplotlib.pyplot as plt\n",
    "import seaborn as sns\n",
    "import os # käytetään tiedostojen käsittelyyn ja hakemistojen hallintaan\n",
    "from IPython.core.interactiveshell import InteractiveShell # tulostaa useamman tulosteen yhdellä kertaa \n",
    "InteractiveShell.ast_node_interactivity=\"all\"\n",
    "from datetime import datetime # aikaleimojen käsittelyyn \n",
    "import calendar # kalenterin käsittelyyn\n",
    "import warnings # poistaa varoitusilmoitukset \n",
    "warnings.filterwarnings(\"ignore\")"
   ]
  },
  {
   "cell_type": "code",
   "execution_count": 3,
   "metadata": {},
   "outputs": [
    {
     "name": "stdout",
     "output_type": "stream",
     "text": [
      "Contents of '/Users/emre/Desktop/ai_da_jamk/currentai/data/raw': ['halfhourly_dataset', 'hhblock_dataset', 'daily_data.csv', 'darksky_parameters_documentation.html', 'acorn_details.csv', 'uk_bank_holidays.csv', 'daily_dataset', 'weather_daily_darksky.csv', 'informations_households.csv', 'daily_dataset.csv', 'halfhourly_data.csv', 'weather_hourly_darksky.csv', 'hhblock_data.csv']\n"
     ]
    }
   ],
   "source": [
    "path = \"/Users/emre/Desktop/ai_da_jamk/currentai/data/raw\" # määritetään polku, jossa data sijaitsee \n",
    "contents = os.listdir(path)\n",
    "print(f\"Contents of '{path}': {contents}\") # tulostetaan hakemiston tiedostot"
   ]
  },
  {
   "cell_type": "code",
   "execution_count": 4,
   "metadata": {},
   "outputs": [],
   "source": [
    "BASE_DIR = '/Users/emre/Desktop/ai_da_jamk/currentai/data/raw'\n",
    "\n",
    "files = {\n",
    "    'household_info': os.path.join(BASE_DIR, 'informations_households.csv'),\n",
    "    'acorn_details': os.path.join(BASE_DIR, 'acorn_details.csv'),\n",
    "    'uk_bank_holidays': os.path.join(BASE_DIR, 'uk_bank_holidays.csv'),\n",
    "    'weather_daily': os.path.join(BASE_DIR, 'weather_daily_darksky.csv'),\n",
    "    'weather_hourly': os.path.join(BASE_DIR, 'weather_hourly_darksky.csv'),\n",
    "    'daily_dataset': os.path.join(BASE_DIR, 'daily_dataset.csv')\n",
    "}\n",
    "\n",
    "DAILY_DIR = os.path.join(BASE_DIR, 'daily_dataset') # määritetään polku päivittäiselle datasetille\n",
    "HALFHOURLY_DIR = os.path.join(BASE_DIR, 'halfhourly_dataset') # määritetään polku puolen tunnin datasetille\n",
    "HHBLOCK_DIR = os.path.join(BASE_DIR, 'hhblock_dataset') # määritetään polku hhblock datasetille "
   ]
  },
  {
   "cell_type": "code",
   "execution_count": 5,
   "metadata": {},
   "outputs": [
    {
     "name": "stdout",
     "output_type": "stream",
     "text": [
      "--- HOUSEHOLD_INFO ---\n",
      "Shape: (5566, 5)\n",
      "Columns: ['LCLid', 'stdorToU', 'Acorn', 'Acorn_grouped', 'file']\n",
      "Info:\n",
      "<class 'pandas.core.frame.DataFrame'>\n",
      "RangeIndex: 5566 entries, 0 to 5565\n",
      "Data columns (total 5 columns):\n",
      " #   Column         Non-Null Count  Dtype \n",
      "---  ------         --------------  ----- \n",
      " 0   LCLid          5566 non-null   object\n",
      " 1   stdorToU       5566 non-null   object\n",
      " 2   Acorn          5566 non-null   object\n",
      " 3   Acorn_grouped  5566 non-null   object\n",
      " 4   file           5566 non-null   object\n",
      "dtypes: object(5)\n",
      "memory usage: 217.5+ KB\n",
      "None\n",
      "Summary:\n",
      "            LCLid stdorToU    Acorn Acorn_grouped     file\n",
      "count        5566     5566     5566          5566     5566\n",
      "unique       5566        2       19             5      112\n",
      "top     MAC005492      Std  ACORN-E      Affluent  block_0\n",
      "freq            1     4443     1567          2192       50\n",
      "Missing values per column:\n",
      "LCLid            0\n",
      "stdorToU         0\n",
      "Acorn            0\n",
      "Acorn_grouped    0\n",
      "file             0\n",
      "dtype: int64\n",
      "Number of duplicate rows: 0\n",
      "--- ACORN_DETAILS ---\n",
      "Shape: (826, 20)\n",
      "Columns: ['MAIN CATEGORIES', 'CATEGORIES', 'REFERENCE', 'ACORN-A', 'ACORN-B', 'ACORN-C', 'ACORN-D', 'ACORN-E', 'ACORN-F', 'ACORN-G', 'ACORN-H', 'ACORN-I', 'ACORN-J', 'ACORN-K', 'ACORN-L', 'ACORN-M', 'ACORN-N', 'ACORN-O', 'ACORN-P', 'ACORN-Q']\n",
      "Info:\n",
      "<class 'pandas.core.frame.DataFrame'>\n",
      "RangeIndex: 826 entries, 0 to 825\n",
      "Data columns (total 20 columns):\n",
      " #   Column           Non-Null Count  Dtype  \n",
      "---  ------           --------------  -----  \n",
      " 0   MAIN CATEGORIES  826 non-null    object \n",
      " 1   CATEGORIES       826 non-null    object \n",
      " 2   REFERENCE        825 non-null    object \n",
      " 3   ACORN-A          826 non-null    float64\n",
      " 4   ACORN-B          826 non-null    float64\n",
      " 5   ACORN-C          826 non-null    float64\n",
      " 6   ACORN-D          826 non-null    float64\n",
      " 7   ACORN-E          826 non-null    float64\n",
      " 8   ACORN-F          826 non-null    float64\n",
      " 9   ACORN-G          826 non-null    float64\n",
      " 10  ACORN-H          826 non-null    float64\n",
      " 11  ACORN-I          826 non-null    float64\n",
      " 12  ACORN-J          826 non-null    float64\n",
      " 13  ACORN-K          826 non-null    float64\n",
      " 14  ACORN-L          826 non-null    float64\n",
      " 15  ACORN-M          826 non-null    float64\n",
      " 16  ACORN-N          826 non-null    float64\n",
      " 17  ACORN-O          826 non-null    float64\n",
      " 18  ACORN-P          826 non-null    float64\n",
      " 19  ACORN-Q          826 non-null    float64\n",
      "dtypes: float64(17), object(3)\n",
      "memory usage: 129.2+ KB\n",
      "None\n",
      "Summary:\n",
      "       MAIN CATEGORIES               CATEGORIES    REFERENCE      ACORN-A  \\\n",
      "count              826                      826          825   826.000000   \n",
      "unique              15                       84          631          NaN   \n",
      "top            DIGITAL  Sites regularly visited  Mass Market          NaN   \n",
      "freq               372                       85            8          NaN   \n",
      "mean               NaN                      NaN          NaN   131.313495   \n",
      "std                NaN                      NaN          NaN   201.448212   \n",
      "min                NaN                      NaN          NaN    12.000000   \n",
      "25%                NaN                      NaN          NaN    87.000000   \n",
      "50%                NaN                      NaN          NaN   104.000000   \n",
      "75%                NaN                      NaN          NaN   128.000000   \n",
      "max                NaN                      NaN          NaN  3795.000000   \n",
      "\n",
      "           ACORN-B     ACORN-C      ACORN-D     ACORN-E     ACORN-F  \\\n",
      "count   826.000000  826.000000   826.000000  826.000000  826.000000   \n",
      "unique         NaN         NaN          NaN         NaN         NaN   \n",
      "top            NaN         NaN          NaN         NaN         NaN   \n",
      "freq           NaN         NaN          NaN         NaN         NaN   \n",
      "mean    110.860256  100.080789   136.857507  117.894757   95.574535   \n",
      "std      42.464050   30.099529    97.740794   35.768807   33.636661   \n",
      "min       0.957011    0.281968     2.000000   21.000000    0.000000   \n",
      "25%      94.000000   86.000000    93.092150   99.000000   81.000000   \n",
      "50%     107.000000  100.000000   121.000000  117.000000   98.000000   \n",
      "75%     122.000000  113.000000   154.000000  135.000000  108.000000   \n",
      "max     419.000000  272.000000  1159.034650  286.000000  462.000000   \n",
      "\n",
      "           ACORN-G     ACORN-H     ACORN-I     ACORN-J      ACORN-K  \\\n",
      "count   826.000000  826.000000  826.000000  826.000000   826.000000   \n",
      "unique         NaN         NaN         NaN         NaN          NaN   \n",
      "top            NaN         NaN         NaN         NaN          NaN   \n",
      "freq           NaN         NaN         NaN         NaN          NaN   \n",
      "mean    101.444276   97.298915   87.028545  104.216563   127.482911   \n",
      "std      21.798994   18.229234   30.337794   19.924033    97.428159   \n",
      "min       0.791419    1.155448    6.363259   16.050708    17.000000   \n",
      "25%      94.138076   91.000000   70.000000   97.000000    85.000000   \n",
      "50%     102.000000   99.000000   88.000000  105.000000   109.000000   \n",
      "75%     109.000000  105.000000  101.750000  115.000000   144.000000   \n",
      "max     295.000000  192.000000  410.000000  197.000000  1821.000000   \n",
      "\n",
      "           ACORN-L     ACORN-M     ACORN-N     ACORN-O     ACORN-P     ACORN-Q  \n",
      "count   826.000000  826.000000  826.000000  826.000000  826.000000  826.000000  \n",
      "unique         NaN         NaN         NaN         NaN         NaN         NaN  \n",
      "top            NaN         NaN         NaN         NaN         NaN         NaN  \n",
      "freq           NaN         NaN         NaN         NaN         NaN         NaN  \n",
      "mean     93.724209   91.410277   79.912379   95.579335  100.141309   90.855423  \n",
      "std      22.177041   22.909602   33.995192   25.935770   37.210288   37.634017  \n",
      "min       0.393546    0.714857    2.000000   11.000000    9.000000    1.000000  \n",
      "25%      86.000000   82.000000   60.253502   86.000000   82.250000   71.250000  \n",
      "50%      95.000000   93.000000   74.000000   96.000000   96.000000   87.000000  \n",
      "75%     102.000000  101.000000   93.158386  104.000000  109.000000  101.000000  \n",
      "max     280.000000  161.000000  295.000000  252.000000  389.000000  326.000000  \n",
      "Missing values per column:\n",
      "MAIN CATEGORIES    0\n",
      "CATEGORIES         0\n",
      "REFERENCE          1\n",
      "ACORN-A            0\n",
      "ACORN-B            0\n",
      "ACORN-C            0\n",
      "ACORN-D            0\n",
      "ACORN-E            0\n",
      "ACORN-F            0\n",
      "ACORN-G            0\n",
      "ACORN-H            0\n",
      "ACORN-I            0\n",
      "ACORN-J            0\n",
      "ACORN-K            0\n",
      "ACORN-L            0\n",
      "ACORN-M            0\n",
      "ACORN-N            0\n",
      "ACORN-O            0\n",
      "ACORN-P            0\n",
      "ACORN-Q            0\n",
      "dtype: int64\n",
      "Number of duplicate rows: 0\n",
      "--- UK_BANK_HOLIDAYS ---\n",
      "Shape: (25, 2)\n",
      "Columns: ['Bank holidays', 'Type']\n",
      "Info:\n",
      "<class 'pandas.core.frame.DataFrame'>\n",
      "RangeIndex: 25 entries, 0 to 24\n",
      "Data columns (total 2 columns):\n",
      " #   Column         Non-Null Count  Dtype \n",
      "---  ------         --------------  ----- \n",
      " 0   Bank holidays  25 non-null     object\n",
      " 1   Type           25 non-null     object\n",
      "dtypes: object(2)\n",
      "memory usage: 528.0+ bytes\n",
      "None\n",
      "Summary:\n",
      "       Bank holidays        Type\n",
      "count             25          25\n",
      "unique            25          11\n",
      "top       2012-12-26  Boxing Day\n",
      "freq               1           3\n",
      "Missing values per column:\n",
      "Bank holidays    0\n",
      "Type             0\n",
      "dtype: int64\n",
      "Number of duplicate rows: 0\n",
      "--- WEATHER_DAILY ---\n",
      "Shape: (882, 32)\n",
      "Columns: ['temperatureMax', 'temperatureMaxTime', 'windBearing', 'icon', 'dewPoint', 'temperatureMinTime', 'cloudCover', 'windSpeed', 'pressure', 'apparentTemperatureMinTime', 'apparentTemperatureHigh', 'precipType', 'visibility', 'humidity', 'apparentTemperatureHighTime', 'apparentTemperatureLow', 'apparentTemperatureMax', 'uvIndex', 'time', 'sunsetTime', 'temperatureLow', 'temperatureMin', 'temperatureHigh', 'sunriseTime', 'temperatureHighTime', 'uvIndexTime', 'summary', 'temperatureLowTime', 'apparentTemperatureMin', 'apparentTemperatureMaxTime', 'apparentTemperatureLowTime', 'moonPhase']\n",
      "Info:\n",
      "<class 'pandas.core.frame.DataFrame'>\n",
      "RangeIndex: 882 entries, 0 to 881\n",
      "Data columns (total 32 columns):\n",
      " #   Column                       Non-Null Count  Dtype  \n",
      "---  ------                       --------------  -----  \n",
      " 0   temperatureMax               882 non-null    float64\n",
      " 1   temperatureMaxTime           882 non-null    object \n",
      " 2   windBearing                  882 non-null    int64  \n",
      " 3   icon                         882 non-null    object \n",
      " 4   dewPoint                     882 non-null    float64\n",
      " 5   temperatureMinTime           882 non-null    object \n",
      " 6   cloudCover                   881 non-null    float64\n",
      " 7   windSpeed                    882 non-null    float64\n",
      " 8   pressure                     882 non-null    float64\n",
      " 9   apparentTemperatureMinTime   882 non-null    object \n",
      " 10  apparentTemperatureHigh      882 non-null    float64\n",
      " 11  precipType                   882 non-null    object \n",
      " 12  visibility                   882 non-null    float64\n",
      " 13  humidity                     882 non-null    float64\n",
      " 14  apparentTemperatureHighTime  882 non-null    object \n",
      " 15  apparentTemperatureLow       882 non-null    float64\n",
      " 16  apparentTemperatureMax       882 non-null    float64\n",
      " 17  uvIndex                      881 non-null    float64\n",
      " 18  time                         882 non-null    object \n",
      " 19  sunsetTime                   882 non-null    object \n",
      " 20  temperatureLow               882 non-null    float64\n",
      " 21  temperatureMin               882 non-null    float64\n",
      " 22  temperatureHigh              882 non-null    float64\n",
      " 23  sunriseTime                  882 non-null    object \n",
      " 24  temperatureHighTime          882 non-null    object \n",
      " 25  uvIndexTime                  881 non-null    object \n",
      " 26  summary                      882 non-null    object \n",
      " 27  temperatureLowTime           882 non-null    object \n",
      " 28  apparentTemperatureMin       882 non-null    float64\n",
      " 29  apparentTemperatureMaxTime   882 non-null    object \n",
      " 30  apparentTemperatureLowTime   882 non-null    object \n",
      " 31  moonPhase                    882 non-null    float64\n",
      "dtypes: float64(16), int64(1), object(15)\n",
      "memory usage: 220.6+ KB\n",
      "None\n",
      "Summary:\n",
      "        temperatureMax   temperatureMaxTime  windBearing               icon  \\\n",
      "count       882.000000                  882   882.000000                882   \n",
      "unique             NaN                  882          NaN                  6   \n",
      "top                NaN  2011-11-11 23:00:00          NaN  partly-cloudy-day   \n",
      "freq               NaN                    1          NaN                619   \n",
      "mean         13.660113                  NaN   195.702948                NaN   \n",
      "std           6.182744                  NaN    89.340783                NaN   \n",
      "min          -0.060000                  NaN     0.000000                NaN   \n",
      "25%           9.502500                  NaN   120.500000                NaN   \n",
      "50%          12.625000                  NaN   219.000000                NaN   \n",
      "75%          17.920000                  NaN   255.000000                NaN   \n",
      "max          32.400000                  NaN   359.000000                NaN   \n",
      "\n",
      "          dewPoint   temperatureMinTime  cloudCover   windSpeed     pressure  \\\n",
      "count   882.000000                  882  881.000000  882.000000   882.000000   \n",
      "unique         NaN                  882         NaN         NaN          NaN   \n",
      "top            NaN  2011-11-11 07:00:00         NaN         NaN          NaN   \n",
      "freq           NaN                    1         NaN         NaN          NaN   \n",
      "mean      6.530034                  NaN    0.477605    3.581803  1014.127540   \n",
      "std       4.830875                  NaN    0.193514    1.694007    11.073038   \n",
      "min      -7.840000                  NaN    0.000000    0.200000   979.250000   \n",
      "25%       3.180000                  NaN    0.350000    2.370000  1007.435000   \n",
      "50%       6.380000                  NaN    0.470000    3.440000  1014.615000   \n",
      "75%      10.057500                  NaN    0.600000    4.577500  1021.755000   \n",
      "max      17.770000                  NaN    1.000000    9.960000  1040.920000   \n",
      "\n",
      "       apparentTemperatureMinTime  ...  temperatureHigh          sunriseTime  \\\n",
      "count                         882  ...       882.000000                  882   \n",
      "unique                        882  ...              NaN                  882   \n",
      "top           2011-11-11 07:00:00  ...              NaN  2011-11-11 07:12:14   \n",
      "freq                            1  ...              NaN                    1   \n",
      "mean                          NaN  ...        13.542392                  NaN   \n",
      "std                           NaN  ...         6.260196                  NaN   \n",
      "min                           NaN  ...        -0.810000                  NaN   \n",
      "25%                           NaN  ...         9.212500                  NaN   \n",
      "50%                           NaN  ...        12.470000                  NaN   \n",
      "75%                           NaN  ...        17.910000                  NaN   \n",
      "max                           NaN  ...        32.400000                  NaN   \n",
      "\n",
      "        temperatureHighTime          uvIndexTime  \\\n",
      "count                   882                  881   \n",
      "unique                  882                  881   \n",
      "top     2011-11-11 19:00:00  2011-11-11 11:00:00   \n",
      "freq                      1                    1   \n",
      "mean                    NaN                  NaN   \n",
      "std                     NaN                  NaN   \n",
      "min                     NaN                  NaN   \n",
      "25%                     NaN                  NaN   \n",
      "50%                     NaN                  NaN   \n",
      "75%                     NaN                  NaN   \n",
      "max                     NaN                  NaN   \n",
      "\n",
      "                                  summary   temperatureLowTime  \\\n",
      "count                                 882                  882   \n",
      "unique                                 88                  882   \n",
      "top     Mostly cloudy throughout the day.  2011-11-11 19:00:00   \n",
      "freq                                  174                    1   \n",
      "mean                                  NaN                  NaN   \n",
      "std                                   NaN                  NaN   \n",
      "min                                   NaN                  NaN   \n",
      "25%                                   NaN                  NaN   \n",
      "50%                                   NaN                  NaN   \n",
      "75%                                   NaN                  NaN   \n",
      "max                                   NaN                  NaN   \n",
      "\n",
      "        apparentTemperatureMin  apparentTemperatureMaxTime  \\\n",
      "count               882.000000                         882   \n",
      "unique                     NaN                         882   \n",
      "top                        NaN         2011-11-11 23:00:00   \n",
      "freq                       NaN                           1   \n",
      "mean                  5.738039                         NaN   \n",
      "std                   6.048746                         NaN   \n",
      "min                  -8.880000                         NaN   \n",
      "25%                   1.105000                         NaN   \n",
      "50%                   4.885000                         NaN   \n",
      "75%                  11.277500                         NaN   \n",
      "max                  20.540000                         NaN   \n",
      "\n",
      "       apparentTemperatureLowTime   moonPhase  \n",
      "count                         882  882.000000  \n",
      "unique                        882         NaN  \n",
      "top           2011-11-11 19:00:00         NaN  \n",
      "freq                            1         NaN  \n",
      "mean                          NaN    0.500930  \n",
      "std                           NaN    0.287022  \n",
      "min                           NaN    0.000000  \n",
      "25%                           NaN    0.260000  \n",
      "50%                           NaN    0.500000  \n",
      "75%                           NaN    0.750000  \n",
      "max                           NaN    0.990000  \n",
      "\n",
      "[11 rows x 32 columns]\n",
      "Missing values per column:\n",
      "temperatureMax                 0\n",
      "temperatureMaxTime             0\n",
      "windBearing                    0\n",
      "icon                           0\n",
      "dewPoint                       0\n",
      "temperatureMinTime             0\n",
      "cloudCover                     1\n",
      "windSpeed                      0\n",
      "pressure                       0\n",
      "apparentTemperatureMinTime     0\n",
      "apparentTemperatureHigh        0\n",
      "precipType                     0\n",
      "visibility                     0\n",
      "humidity                       0\n",
      "apparentTemperatureHighTime    0\n",
      "apparentTemperatureLow         0\n",
      "apparentTemperatureMax         0\n",
      "uvIndex                        1\n",
      "time                           0\n",
      "sunsetTime                     0\n",
      "temperatureLow                 0\n",
      "temperatureMin                 0\n",
      "temperatureHigh                0\n",
      "sunriseTime                    0\n",
      "temperatureHighTime            0\n",
      "uvIndexTime                    1\n",
      "summary                        0\n",
      "temperatureLowTime             0\n",
      "apparentTemperatureMin         0\n",
      "apparentTemperatureMaxTime     0\n",
      "apparentTemperatureLowTime     0\n",
      "moonPhase                      0\n",
      "dtype: int64\n",
      "Number of duplicate rows: 0\n",
      "--- WEATHER_HOURLY ---\n",
      "Shape: (21165, 12)\n",
      "Columns: ['visibility', 'windBearing', 'temperature', 'time', 'dewPoint', 'pressure', 'apparentTemperature', 'windSpeed', 'precipType', 'icon', 'humidity', 'summary']\n",
      "Info:\n",
      "<class 'pandas.core.frame.DataFrame'>\n",
      "RangeIndex: 21165 entries, 0 to 21164\n",
      "Data columns (total 12 columns):\n",
      " #   Column               Non-Null Count  Dtype  \n",
      "---  ------               --------------  -----  \n",
      " 0   visibility           21165 non-null  float64\n",
      " 1   windBearing          21165 non-null  int64  \n",
      " 2   temperature          21165 non-null  float64\n",
      " 3   time                 21165 non-null  object \n",
      " 4   dewPoint             21165 non-null  float64\n",
      " 5   pressure             21152 non-null  float64\n",
      " 6   apparentTemperature  21165 non-null  float64\n",
      " 7   windSpeed            21165 non-null  float64\n",
      " 8   precipType           21165 non-null  object \n",
      " 9   icon                 21165 non-null  object \n",
      " 10  humidity             21165 non-null  float64\n",
      " 11  summary              21165 non-null  object \n",
      "dtypes: float64(7), int64(1), object(4)\n",
      "memory usage: 1.9+ MB\n",
      "None\n",
      "Summary:\n",
      "          visibility   windBearing   temperature                 time  \\\n",
      "count   21165.000000  21165.000000  21165.000000                21165   \n",
      "unique           NaN           NaN           NaN                21165   \n",
      "top              NaN           NaN           NaN  2011-11-11 00:00:00   \n",
      "freq             NaN           NaN           NaN                    1   \n",
      "mean       11.166485    195.685897     10.471486                  NaN   \n",
      "std         3.099337     90.629453      5.781904                  NaN   \n",
      "min         0.180000      0.000000     -5.640000                  NaN   \n",
      "25%        10.120000    121.000000      6.470000                  NaN   \n",
      "50%        12.260000    217.000000      9.930000                  NaN   \n",
      "75%        13.080000    256.000000     14.310000                  NaN   \n",
      "max        16.090000    359.000000     32.400000                  NaN   \n",
      "\n",
      "            dewPoint      pressure  apparentTemperature     windSpeed  \\\n",
      "count   21165.000000  21152.000000         21165.000000  21165.000000   \n",
      "unique           NaN           NaN                  NaN           NaN   \n",
      "top              NaN           NaN                  NaN           NaN   \n",
      "freq             NaN           NaN                  NaN           NaN   \n",
      "mean        6.530501   1014.125153             9.230338      3.905215   \n",
      "std         5.041965     11.388337             6.940919      2.026854   \n",
      "min        -9.980000    975.740000            -8.880000      0.040000   \n",
      "25%         2.820000   1007.430000             3.900000      2.420000   \n",
      "50%         6.570000   1014.780000             9.360000      3.680000   \n",
      "75%        10.330000   1022.050000            14.320000      5.070000   \n",
      "max        19.880000   1043.320000            32.420000     14.800000   \n",
      "\n",
      "       precipType               icon      humidity        summary  \n",
      "count       21165              21165  21165.000000          21165  \n",
      "unique          2                  7           NaN             13  \n",
      "top          rain  partly-cloudy-day           NaN  Partly Cloudy  \n",
      "freq        20370               7658           NaN           6638  \n",
      "mean          NaN                NaN      0.781829            NaN  \n",
      "std           NaN                NaN      0.140369            NaN  \n",
      "min           NaN                NaN      0.230000            NaN  \n",
      "25%           NaN                NaN      0.700000            NaN  \n",
      "50%           NaN                NaN      0.810000            NaN  \n",
      "75%           NaN                NaN      0.890000            NaN  \n",
      "max           NaN                NaN      1.000000            NaN  \n",
      "Missing values per column:\n",
      "visibility              0\n",
      "windBearing             0\n",
      "temperature             0\n",
      "time                    0\n",
      "dewPoint                0\n",
      "pressure               13\n",
      "apparentTemperature     0\n",
      "windSpeed               0\n",
      "precipType              0\n",
      "icon                    0\n",
      "humidity                0\n",
      "summary                 0\n",
      "dtype: int64\n",
      "Number of duplicate rows: 0\n",
      "--- DAILY_DATASET ---\n",
      "Shape: (3510433, 9)\n",
      "Columns: ['LCLid', 'day', 'energy_median', 'energy_mean', 'energy_max', 'energy_count', 'energy_std', 'energy_sum', 'energy_min']\n",
      "Info:\n",
      "<class 'pandas.core.frame.DataFrame'>\n",
      "RangeIndex: 3510433 entries, 0 to 3510432\n",
      "Data columns (total 9 columns):\n",
      " #   Column         Dtype  \n",
      "---  ------         -----  \n",
      " 0   LCLid          object \n",
      " 1   day            object \n",
      " 2   energy_median  float64\n",
      " 3   energy_mean    float64\n",
      " 4   energy_max     float64\n",
      " 5   energy_count   int64  \n",
      " 6   energy_std     float64\n",
      " 7   energy_sum     float64\n",
      " 8   energy_min     float64\n",
      "dtypes: float64(6), int64(1), object(2)\n",
      "memory usage: 241.0+ MB\n",
      "None\n",
      "Summary:\n",
      "            LCLid         day  energy_median   energy_mean    energy_max  \\\n",
      "count     3510433     3510433   3.510403e+06  3.510403e+06  3.510403e+06   \n",
      "unique       5566         829            NaN           NaN           NaN   \n",
      "top     MAC000149  2012-12-18            NaN           NaN           NaN   \n",
      "freq          829        5541            NaN           NaN           NaN   \n",
      "mean          NaN         NaN   1.587395e-01  2.117305e-01  8.345210e-01   \n",
      "std           NaN         NaN   1.701865e-01  1.908460e-01  6.683156e-01   \n",
      "min           NaN         NaN   0.000000e+00  0.000000e+00  0.000000e+00   \n",
      "25%           NaN         NaN   6.700000e-02  9.808333e-02  3.460000e-01   \n",
      "50%           NaN         NaN   1.145000e-01  1.632917e-01  6.880000e-01   \n",
      "75%           NaN         NaN   1.910000e-01  2.624583e-01  1.128000e+00   \n",
      "max           NaN         NaN   6.970500e+00  6.928250e+00  1.076100e+01   \n",
      "\n",
      "        energy_count    energy_std    energy_sum    energy_min  \n",
      "count   3.510433e+06  3.499102e+06  3.510403e+06  3.510403e+06  \n",
      "unique           NaN           NaN           NaN           NaN  \n",
      "top              NaN           NaN           NaN           NaN  \n",
      "freq             NaN           NaN           NaN           NaN  \n",
      "mean    4.780364e+01  1.726673e-01  1.012414e+01  5.962578e-02  \n",
      "std     2.810982e+00  1.531208e-01  9.128793e+00  8.701312e-02  \n",
      "min     0.000000e+00  0.000000e+00  0.000000e+00  0.000000e+00  \n",
      "25%     4.800000e+01  6.911626e-02  4.682000e+00  2.000000e-02  \n",
      "50%     4.800000e+01  1.327910e-01  7.815000e+00  3.900000e-02  \n",
      "75%     4.800000e+01  2.293124e-01  1.256900e+01  7.100000e-02  \n",
      "max     4.800000e+01  4.024569e+00  3.325560e+02  6.524000e+00  \n",
      "Missing values per column:\n",
      "LCLid                0\n",
      "day                  0\n",
      "energy_median       30\n",
      "energy_mean         30\n",
      "energy_max          30\n",
      "energy_count         0\n",
      "energy_std       11331\n",
      "energy_sum          30\n",
      "energy_min          30\n",
      "dtype: int64\n",
      "Number of duplicate rows: 0\n"
     ]
    }
   ],
   "source": [
    "# funktio, joka lataa ja tulostaa datasetin tiedot \n",
    "def summarize_dataset(file_path, dataset_name):\n",
    "    print(f\"--- {dataset_name.upper()} ---\")\n",
    "    try:\n",
    "        data = pd.read_csv(file_path, encoding='latin1')\n",
    "        print(f\"Shape: {data.shape}\")\n",
    "        print(f\"Columns: {list(data.columns)}\")\n",
    "        print(f\"Info:\")\n",
    "        print(data.info())\n",
    "        print(f\"Summary:\")\n",
    "        print(data.describe(include='all'))\n",
    "        \n",
    "        missing = data.isnull().sum()\n",
    "        duplicates = data.duplicated().sum()\n",
    "        print(f\"Missing values per column:\\n{missing}\")\n",
    "        print(f\"Number of duplicate rows: {duplicates}\")\n",
    "        return data\n",
    "    except Exception as e:\n",
    "        print(f\"Error reading {dataset_name}: {e}\")\n",
    "\n",
    "datasets = {}\n",
    "for name, path in files.items():\n",
    "    datasets[name] = summarize_dataset(path, name)"
   ]
  },
  {
   "cell_type": "markdown",
   "metadata": {},
   "source": [
    "##### 1. **HOUSEHOLD_INFO**\n",
    "  - 5566 kotitaluden tunnistetta **(LCLid)**\n",
    "  - Jokainen talous kuuluu yhteen tai kahteen hinta luettoloon **(StdorToU) Std:Vakio, ToU: Aikaperusteinen**\n",
    "  - Kotitaludet luokitellaan **(Acorn, Acorn_grouped)** kotitalauiden asemat yhteiskunnassa\n",
    "  - **(file)** tarkoittaa mikä tieto sisältää kotitalouden tiedot. 112 uniikkia tiedostoa \n",
    "##### 2. **ACORN_DETAILS**\n",
    "  - Acorn (A Classification Of Residential Neighbourhoods) on järjestelmä väestön luokitteluun\n",
    "  - 826 riviä, joissa **pääkategoriat (MAIN CATEGORIES) ja alakategoriat (CATEGORIES)**\n",
    "  - 17 numeerista saraketta **(esim. ACORN-A, ACORN-B)**\n",
    "  - 1 puuttuva arvo sarakkeessa **REFERENCE**\n",
    "##### 3. **UK_BANK_HOLIDAYS**\n",
    "  - Lista Britannian pankki vapaista ja niiden tyypeistä\n",
    "  - 25 pankki vapaata, kaikki uniikkeja\n",
    "  - 11 kategoriaa, yleisin Boxing Day (3 esiintymää)\n",
    "##### 4. **WEATHER_DAILY**\n",
    "  - Päivittäiset säätiedot\n",
    "  - 882 riviä sää ominaisuuksia, kuten lämpötila, pilvisyys, kosteus\n",
    "  - Vähäinen määrä puuttuvia arvoja **(cloudCover, uvIndex)**\n",
    "  - Tarkat tiedot lämpötiloista ja sääolosuhteista\n",
    "##### 5. **WEATHER_HOURLY**\n",
    "  - Tunnin välein kerättyjä säätietoja\n",
    "  - 21,165 riviä ja 12 saraketta sääominaisuuksilla **(esim. lämpötila, näkyvyys)**\n",
    "  - 13 puuttuvaa arvoa sarakkeessa **pressure**\n",
    "  - **precipType: Kaksi luokkaa (sade, lumi)**\n",
    "##### 6. **DAILY_DATASET**\n",
    "  - Päivittäinen energiankulutus kotitalouksittain\n",
    "  - 3,51 miljoonaa riviä ja 9 saraketta\n",
    "  - Tietoja, kuten **(energy_mean, energy_sum, energy_max)**\n",
    "  - 5566 uniikkia kotitaloutta, 829 päivää\n",
    "  - Joitain puuttuvia arvoja energian kulutus tiedoissa\n",
    "---\n",
    "**Datan laatu:** Rakenteeltaan hyvä, vähän puuttuvia arvoja\n",
    "**Yhdistämismahdollisuudet:**\n",
    "  - LCLid yhdistää **(HOUSEHOLD_INFO, DAILY_DATASET)**\n",
    "  - Säätiedot **(WEATHER_DAILY, WEATHER_HOURLY)** voidaan liittää päiväyksittäin\n",
    "  - **(ACORN_DETAILS)** täydentävät kotitaloustietoja\n"
   ]
  },
  {
   "cell_type": "markdown",
   "metadata": {},
   "source": [
    "**Etsitään alitiedosdot, lasketaan määrää ja yritetään saada yleiskatseus**\n",
    "- Koodi etsii kaikki .csv tiedostot kolmesta eri kansiosta:\n",
    "\t•\tPäivittäinen data (daily_dataset).\n",
    "\t•\tPuolen tunnin data (halfhourly_dataset).\n",
    "\t•\tHHBlock data (hhblock_dataset).\n",
    "- Tulostaa jokaisesta kansiosta, montako .csv tiedostoa löytyi.\n",
    "- Valitsen jokaisesta kansiosta yhden tiedoston (jos löytyy) ja analysoi sen summarize_dataset toiminnolla."
   ]
  },
  {
   "cell_type": "code",
   "execution_count": 6,
   "metadata": {},
   "outputs": [],
   "source": [
    "def get_all_csv_files(folder_path):\n",
    "    \"\"\"\n",
    "    Kaivataan kaikki .csv tiedostot annetusta hakemistosta ja sen alihakemistoista.\n",
    "    \"\"\"\n",
    "    csv_files = []\n",
    "    for root, _, files in os.walk(folder_path):\n",
    "        for file in files:\n",
    "            if file.endswith('.csv'):\n",
    "                csv_files.append(os.path.join(root, file))\n",
    "    return csv_files"
   ]
  },
  {
   "cell_type": "code",
   "execution_count": 7,
   "metadata": {},
   "outputs": [
    {
     "name": "stdout",
     "output_type": "stream",
     "text": [
      "Number of daily dataset files: 112\n",
      "Number of half-hourly dataset files: 112\n",
      "Number of hhblock dataset files: 112\n"
     ]
    }
   ],
   "source": [
    "daily_files = get_all_csv_files(DAILY_DIR) # haetaan kaikki päivittäiset datasetit\n",
    "print(f\"Number of daily dataset files: {len(daily_files)}\")\n",
    "\n",
    "halfhourly_files = get_all_csv_files(HALFHOURLY_DIR) # haetaan kaikki puolen tunnin datasetit\n",
    "print(f\"Number of half-hourly dataset files: {len(halfhourly_files)}\")\n",
    "\n",
    "hhblock_files = get_all_csv_files(HHBLOCK_DIR) # haetaan kaikki hhblock datasetit\n",
    "print(f\"Number of hhblock dataset files: {len(hhblock_files)}\")"
   ]
  },
  {
   "cell_type": "code",
   "execution_count": 8,
   "metadata": {},
   "outputs": [
    {
     "name": "stdout",
     "output_type": "stream",
     "text": [
      "--- DAILY_DATASET_SAMPLE ---\n",
      "Shape: (29178, 9)\n",
      "Columns: ['LCLid', 'day', 'energy_median', 'energy_mean', 'energy_max', 'energy_count', 'energy_std', 'energy_sum', 'energy_min']\n",
      "Info:\n",
      "<class 'pandas.core.frame.DataFrame'>\n",
      "RangeIndex: 29178 entries, 0 to 29177\n",
      "Data columns (total 9 columns):\n",
      " #   Column         Non-Null Count  Dtype  \n",
      "---  ------         --------------  -----  \n",
      " 0   LCLid          29178 non-null  object \n",
      " 1   day            29178 non-null  object \n",
      " 2   energy_median  29177 non-null  float64\n",
      " 3   energy_mean    29177 non-null  float64\n",
      " 4   energy_max     29177 non-null  float64\n",
      " 5   energy_count   29178 non-null  int64  \n",
      " 6   energy_std     29091 non-null  float64\n",
      " 7   energy_sum     29177 non-null  float64\n",
      " 8   energy_min     29177 non-null  float64\n",
      "dtypes: float64(6), int64(1), object(2)\n",
      "memory usage: 2.0+ MB\n",
      "None\n",
      "Summary:\n",
      "            LCLid         day  energy_median   energy_mean    energy_max  \\\n",
      "count       29178       29178   29177.000000  29177.000000  29177.000000   \n",
      "unique         50         815            NaN           NaN           NaN   \n",
      "top     MAC000027  2013-02-20            NaN           NaN           NaN   \n",
      "freq          815          49            NaN           NaN           NaN   \n",
      "mean          NaN         NaN       0.162839      0.220113      0.874403   \n",
      "std           NaN         NaN       0.160373      0.173038      0.637621   \n",
      "min           NaN         NaN       0.000000      0.000000      0.000000   \n",
      "25%           NaN         NaN       0.077500      0.116125      0.403000   \n",
      "50%           NaN         NaN       0.119500      0.173333      0.730000   \n",
      "75%           NaN         NaN       0.190000      0.265604      1.156000   \n",
      "max           NaN         NaN       2.016500      1.806354      6.452000   \n",
      "\n",
      "        energy_count    energy_std    energy_sum    energy_min  \n",
      "count   29178.000000  29091.000000  29177.000000  29177.000000  \n",
      "unique           NaN           NaN           NaN           NaN  \n",
      "top              NaN           NaN           NaN           NaN  \n",
      "freq             NaN           NaN           NaN           NaN  \n",
      "mean       47.812050      0.180287     10.528773      0.063477  \n",
      "std         2.728003      0.140765      8.300177      0.086212  \n",
      "min         0.000000      0.000498      0.000000      0.000000  \n",
      "25%        48.000000      0.080205      5.547000      0.023000  \n",
      "50%        48.000000      0.140250      8.301000      0.042000  \n",
      "75%        48.000000      0.234063     12.724000      0.076000  \n",
      "max        48.000000      1.390960     86.705000      1.040000  \n",
      "Missing values per column:\n",
      "LCLid             0\n",
      "day               0\n",
      "energy_median     1\n",
      "energy_mean       1\n",
      "energy_max        1\n",
      "energy_count      0\n",
      "energy_std       87\n",
      "energy_sum        1\n",
      "energy_min        1\n",
      "dtype: int64\n",
      "Number of duplicate rows: 0\n",
      "--- HALFHOURLY_DATASET_SAMPLE ---\n",
      "Shape: (1395110, 3)\n",
      "Columns: ['LCLid', 'tstp', 'energy(kWh/hh)']\n",
      "Info:\n",
      "<class 'pandas.core.frame.DataFrame'>\n",
      "RangeIndex: 1395110 entries, 0 to 1395109\n",
      "Data columns (total 3 columns):\n",
      " #   Column          Non-Null Count    Dtype \n",
      "---  ------          --------------    ----- \n",
      " 0   LCLid           1395110 non-null  object\n",
      " 1   tstp            1395110 non-null  object\n",
      " 2   energy(kWh/hh)  1395110 non-null  object\n",
      "dtypes: object(3)\n",
      "memory usage: 31.9+ MB\n",
      "None\n",
      "Summary:\n",
      "            LCLid                         tstp energy(kWh/hh)\n",
      "count     1395110                      1395110        1395110\n",
      "unique         50                        39098           3228\n",
      "top     MAC000027  2012-12-25 04:30:00.0000000         0.024 \n",
      "freq        39042                           49           8322\n",
      "Missing values per column:\n",
      "LCLid             0\n",
      "tstp              0\n",
      "energy(kWh/hh)    0\n",
      "dtype: int64\n",
      "Number of duplicate rows: 0\n",
      "--- HHBLOCK_DATASET_SAMPLE ---\n",
      "Shape: (28836, 50)\n",
      "Columns: ['LCLid', 'day', 'hh_0', 'hh_1', 'hh_2', 'hh_3', 'hh_4', 'hh_5', 'hh_6', 'hh_7', 'hh_8', 'hh_9', 'hh_10', 'hh_11', 'hh_12', 'hh_13', 'hh_14', 'hh_15', 'hh_16', 'hh_17', 'hh_18', 'hh_19', 'hh_20', 'hh_21', 'hh_22', 'hh_23', 'hh_24', 'hh_25', 'hh_26', 'hh_27', 'hh_28', 'hh_29', 'hh_30', 'hh_31', 'hh_32', 'hh_33', 'hh_34', 'hh_35', 'hh_36', 'hh_37', 'hh_38', 'hh_39', 'hh_40', 'hh_41', 'hh_42', 'hh_43', 'hh_44', 'hh_45', 'hh_46', 'hh_47']\n",
      "Info:\n",
      "<class 'pandas.core.frame.DataFrame'>\n",
      "RangeIndex: 28836 entries, 0 to 28835\n",
      "Data columns (total 50 columns):\n",
      " #   Column  Non-Null Count  Dtype  \n",
      "---  ------  --------------  -----  \n",
      " 0   LCLid   28836 non-null  object \n",
      " 1   day     28836 non-null  object \n",
      " 2   hh_0    28836 non-null  float64\n",
      " 3   hh_1    28836 non-null  float64\n",
      " 4   hh_2    28836 non-null  float64\n",
      " 5   hh_3    28836 non-null  float64\n",
      " 6   hh_4    28836 non-null  float64\n",
      " 7   hh_5    28836 non-null  float64\n",
      " 8   hh_6    28836 non-null  float64\n",
      " 9   hh_7    28836 non-null  float64\n",
      " 10  hh_8    28836 non-null  float64\n",
      " 11  hh_9    28836 non-null  float64\n",
      " 12  hh_10   28836 non-null  float64\n",
      " 13  hh_11   28836 non-null  float64\n",
      " 14  hh_12   28836 non-null  float64\n",
      " 15  hh_13   28836 non-null  float64\n",
      " 16  hh_14   28836 non-null  float64\n",
      " 17  hh_15   28836 non-null  float64\n",
      " 18  hh_16   28836 non-null  float64\n",
      " 19  hh_17   28836 non-null  float64\n",
      " 20  hh_18   28836 non-null  float64\n",
      " 21  hh_19   28836 non-null  float64\n",
      " 22  hh_20   28836 non-null  float64\n",
      " 23  hh_21   28836 non-null  float64\n",
      " 24  hh_22   28836 non-null  float64\n",
      " 25  hh_23   28836 non-null  float64\n",
      " 26  hh_24   28836 non-null  float64\n",
      " 27  hh_25   28836 non-null  float64\n",
      " 28  hh_26   28836 non-null  float64\n",
      " 29  hh_27   28836 non-null  float64\n",
      " 30  hh_28   28836 non-null  float64\n",
      " 31  hh_29   28836 non-null  float64\n",
      " 32  hh_30   28788 non-null  float64\n",
      " 33  hh_31   28836 non-null  float64\n",
      " 34  hh_32   28836 non-null  float64\n",
      " 35  hh_33   28836 non-null  float64\n",
      " 36  hh_34   28836 non-null  float64\n",
      " 37  hh_35   28836 non-null  float64\n",
      " 38  hh_36   28836 non-null  float64\n",
      " 39  hh_37   28836 non-null  float64\n",
      " 40  hh_38   28836 non-null  float64\n",
      " 41  hh_39   28836 non-null  float64\n",
      " 42  hh_40   28836 non-null  float64\n",
      " 43  hh_41   28836 non-null  float64\n",
      " 44  hh_42   28836 non-null  float64\n",
      " 45  hh_43   28836 non-null  float64\n",
      " 46  hh_44   28836 non-null  float64\n",
      " 47  hh_45   28836 non-null  float64\n",
      " 48  hh_46   28836 non-null  float64\n",
      " 49  hh_47   28836 non-null  float64\n",
      "dtypes: float64(48), object(2)\n",
      "memory usage: 11.0+ MB\n",
      "None\n",
      "Summary:\n",
      "            LCLid         day          hh_0          hh_1          hh_2  \\\n",
      "count       28836       28836  28836.000000  28836.000000  28836.000000   \n",
      "unique         50         813           NaN           NaN           NaN   \n",
      "top     MAC000027  2012-12-24           NaN           NaN           NaN   \n",
      "freq          811          49           NaN           NaN           NaN   \n",
      "mean          NaN         NaN      0.149769      0.132798      0.121369   \n",
      "std           NaN         NaN      0.189339      0.168248      0.155599   \n",
      "min           NaN         NaN      0.000000      0.000000      0.000000   \n",
      "25%           NaN         NaN      0.052000      0.048000      0.046000   \n",
      "50%           NaN         NaN      0.090000      0.083000      0.079000   \n",
      "75%           NaN         NaN      0.159000      0.139000      0.125000   \n",
      "max           NaN         NaN      4.179000      3.145000      3.379000   \n",
      "\n",
      "                hh_3          hh_4          hh_5          hh_6          hh_7  \\\n",
      "count   28836.000000  28836.000000  28836.000000  28836.000000  28836.000000   \n",
      "unique           NaN           NaN           NaN           NaN           NaN   \n",
      "top              NaN           NaN           NaN           NaN           NaN   \n",
      "freq             NaN           NaN           NaN           NaN           NaN   \n",
      "mean        0.114568      0.110552      0.125917      0.130402      0.129352   \n",
      "std         0.144163      0.136281      0.192683      0.230748      0.228216   \n",
      "min         0.000000      0.000000      0.000000      0.000000      0.000000   \n",
      "25%         0.045000      0.044000      0.044000      0.043000      0.043000   \n",
      "50%         0.076000      0.075000      0.074000      0.074000      0.073000   \n",
      "75%         0.119000      0.117000      0.118000      0.117000      0.117000   \n",
      "max         3.111000      2.087000      2.149000      1.901000      2.205000   \n",
      "\n",
      "        ...         hh_38         hh_39         hh_40         hh_41  \\\n",
      "count   ...  28836.000000  28836.000000  28836.000000  28836.000000   \n",
      "unique  ...           NaN           NaN           NaN           NaN   \n",
      "top     ...           NaN           NaN           NaN           NaN   \n",
      "freq    ...           NaN           NaN           NaN           NaN   \n",
      "mean    ...      0.335781      0.335534      0.329599      0.327205   \n",
      "std     ...      0.350169      0.348368      0.342652      0.348269   \n",
      "min     ...      0.000000      0.000000      0.000000      0.000000   \n",
      "25%     ...      0.131000      0.132000      0.134000      0.134000   \n",
      "50%     ...      0.226000      0.232000      0.224000      0.224000   \n",
      "75%     ...      0.398000      0.394000      0.382000      0.378000   \n",
      "max     ...      4.362000      4.875000      5.364000      5.361000   \n",
      "\n",
      "               hh_42         hh_43         hh_44         hh_45         hh_46  \\\n",
      "count   28836.000000  28836.000000  28836.000000  28836.000000  28836.000000   \n",
      "unique           NaN           NaN           NaN           NaN           NaN   \n",
      "top              NaN           NaN           NaN           NaN           NaN   \n",
      "freq             NaN           NaN           NaN           NaN           NaN   \n",
      "mean        0.314469      0.297228      0.271551      0.239370      0.205561   \n",
      "std         0.330438      0.313440      0.296346      0.268979      0.245526   \n",
      "min         0.000000      0.000000      0.000000      0.000000      0.000000   \n",
      "25%         0.132000      0.122000      0.100000      0.085000      0.068000   \n",
      "50%         0.216000      0.205000      0.185000      0.157000      0.127000   \n",
      "75%         0.366000      0.356000      0.329000      0.291000      0.239000   \n",
      "max         5.586000      5.134000      4.879000      3.616000      3.891000   \n",
      "\n",
      "               hh_47  \n",
      "count   28836.000000  \n",
      "unique           NaN  \n",
      "top              NaN  \n",
      "freq             NaN  \n",
      "mean        0.175356  \n",
      "std         0.218911  \n",
      "min         0.000000  \n",
      "25%         0.058000  \n",
      "50%         0.103000  \n",
      "75%         0.195000  \n",
      "max         4.821000  \n",
      "\n",
      "[11 rows x 50 columns]\n",
      "Missing values per column:\n",
      "LCLid     0\n",
      "day       0\n",
      "hh_0      0\n",
      "hh_1      0\n",
      "hh_2      0\n",
      "hh_3      0\n",
      "hh_4      0\n",
      "hh_5      0\n",
      "hh_6      0\n",
      "hh_7      0\n",
      "hh_8      0\n",
      "hh_9      0\n",
      "hh_10     0\n",
      "hh_11     0\n",
      "hh_12     0\n",
      "hh_13     0\n",
      "hh_14     0\n",
      "hh_15     0\n",
      "hh_16     0\n",
      "hh_17     0\n",
      "hh_18     0\n",
      "hh_19     0\n",
      "hh_20     0\n",
      "hh_21     0\n",
      "hh_22     0\n",
      "hh_23     0\n",
      "hh_24     0\n",
      "hh_25     0\n",
      "hh_26     0\n",
      "hh_27     0\n",
      "hh_28     0\n",
      "hh_29     0\n",
      "hh_30    48\n",
      "hh_31     0\n",
      "hh_32     0\n",
      "hh_33     0\n",
      "hh_34     0\n",
      "hh_35     0\n",
      "hh_36     0\n",
      "hh_37     0\n",
      "hh_38     0\n",
      "hh_39     0\n",
      "hh_40     0\n",
      "hh_41     0\n",
      "hh_42     0\n",
      "hh_43     0\n",
      "hh_44     0\n",
      "hh_45     0\n",
      "hh_46     0\n",
      "hh_47     0\n",
      "dtype: int64\n",
      "Number of duplicate rows: 0\n"
     ]
    }
   ],
   "source": [
    "# analysoidaan yksi tiedosto päivittäisestä datasetistä \n",
    "if daily_files:\n",
    "    sample_daily_data = summarize_dataset(daily_files[0], 'daily_dataset_sample')\n",
    "else:\n",
    "    print(\"No daily dataset files found.\")\n",
    "\n",
    "# analysoi yksi tiedosto puolen tunnin datasetistä\n",
    "if halfhourly_files:\n",
    "    sample_halfhourly_data = summarize_dataset(halfhourly_files[0], 'halfhourly_dataset_sample')\n",
    "else:\n",
    "    print(\"No half-hourly dataset files found.\")\n",
    "\n",
    "# analysoi yksi tiedosto hhblock datasetistä \n",
    "if hhblock_files:\n",
    "    sample_hhblock_data = summarize_dataset(hhblock_files[0], 'hhblock_dataset_sample')\n",
    "else:\n",
    "    print(\"No hhblock dataset files found.\")"
   ]
  },
  {
   "cell_type": "markdown",
   "metadata": {},
   "source": [
    "##### 1. **DAILY_DATASET_SAMPLE**\n",
    "Näyte päivittäisestä energiankulutusdatasta\n",
    "  - 29178 riviä ja 9 saraketta\n",
    "  - Sisältää energiankulutuksen tilastot (esim. `energy_mean`, `energy_sum`, `energy_max`)\n",
    "  - 50 kotitaloutta (`LCLid`) ja 815 eri päivää (`day`)\n",
    "  - Joitain puuttuvia arvoja energiankulutustiedoissa (esim. `energy_std`: 87 puuttuvaa arvoa)\n",
    "##### 2. **HALFHOURLY_DATASET_SAMPLE**\n",
    "Näyte puolen tunnin välein kerätystä energiankulutuksesta\n",
    "  - 1,395,110 riviä ja 3 saraketta\n",
    "  - Sarakkeet: `LCLid`, aikaleima (`tstp`), energiankulutus (`energy(kWh/hh)`)\n",
    "  - 50 kotitaloutta ja 39,098 uniikkia aikaleimaa\n",
    "  - Ei puuttuvia arvoja\n",
    "##### 3. **HHBLOCK_DATASET_SAMPLE**\n",
    "Näyte kotitalouksien puolen tunnin energiankulutuksesta päiväkohtaisesti\n",
    "  - 28,836 riviä ja 50 saraketta\n",
    "  - Sarakkeet: `LCLid`, päivä (`day`), ja 48 aikaväliä (`hh_0` - `hh_47`)\n",
    "  - 50 kotitaloutta ja 813 eri päivää\n",
    "  - Sarakkeessa `hh_30` 48 puuttuvaa arvoa\n",
    "---\n",
    "1. **Datan laatu:** \n",
    "   - Kokonaisuudessaan hyvin rakenteellista ja vain vähän puuttuvia arvoja.\n",
    "   - **DAILY_DATASET_SAMPLE** ja **HHBLOCK_DATASET_SAMPLE** sisältävät pieniä määriä puuttuvia arvoja, jotka on käsiteltävä ennen analyysia.\n",
    "2. **Yhdistämismahdollisuudet:**\n",
    "   - `LCLid` toimii avainsarakkeena yhdistettäessä datasetit.\n",
    "   - Päivämäärä (`day`) ja aikaleima (`tstp`) mahdollistavat ajallisen analyysin ja yhdistämisen muihin tietoihin."
   ]
  },
  {
   "cell_type": "markdown",
   "metadata": {},
   "source": [
    "## **1.HOUSEHOLD INFO**"
   ]
  },
  {
   "cell_type": "code",
   "execution_count": 10,
   "metadata": {},
   "outputs": [
    {
     "name": "stdout",
     "output_type": "stream",
     "text": [
      "<class 'pandas.core.frame.DataFrame'>\n",
      "RangeIndex: 5566 entries, 0 to 5565\n",
      "Data columns (total 5 columns):\n",
      " #   Column         Non-Null Count  Dtype \n",
      "---  ------         --------------  ----- \n",
      " 0   LCLid          5566 non-null   object\n",
      " 1   stdorToU       5566 non-null   object\n",
      " 2   Acorn          5566 non-null   object\n",
      " 3   Acorn_grouped  5566 non-null   object\n",
      " 4   file           5566 non-null   object\n",
      "dtypes: object(5)\n",
      "memory usage: 217.5+ KB\n",
      "None\n",
      "            LCLid stdorToU    Acorn Acorn_grouped     file\n",
      "count        5566     5566     5566          5566     5566\n",
      "unique       5566        2       19             5      112\n",
      "top     MAC005492      Std  ACORN-E      Affluent  block_0\n",
      "freq            1     4443     1567          2192       50\n",
      "       LCLid stdorToU    Acorn Acorn_grouped     file\n",
      "0  MAC005492      ToU   ACORN-        ACORN-  block_0\n",
      "1  MAC001074      ToU   ACORN-        ACORN-  block_0\n",
      "2  MAC000002      Std  ACORN-A      Affluent  block_0\n",
      "3  MAC003613      Std  ACORN-A      Affluent  block_0\n",
      "4  MAC003597      Std  ACORN-A      Affluent  block_0\n"
     ]
    }
   ],
   "source": [
    "household_info_path = files['household_info']\n",
    "household_info = pd.read_csv(household_info_path)\n",
    "\n",
    "print(household_info.info())\n",
    "print(household_info.describe())\n",
    "print(household_info.head())"
   ]
  },
  {
   "cell_type": "code",
   "execution_count": 11,
   "metadata": {},
   "outputs": [
    {
     "name": "stdout",
     "output_type": "stream",
     "text": [
      "LCLid            0\n",
      "stdorToU         0\n",
      "Acorn            0\n",
      "Acorn_grouped    0\n",
      "file             0\n",
      "dtype: int64\n"
     ]
    }
   ],
   "source": [
    "print(household_info.isnull().sum()) # tarkistetaan puuttuvat arvot"
   ]
  },
  {
   "cell_type": "code",
   "execution_count": 12,
   "metadata": {},
   "outputs": [],
   "source": [
    "household_info['stdorToU'] = household_info['stdorToU'].str.strip().str.upper() # muutetaan kaikki kirjaimet isoiksi kirjaimiksi stdorToU sarakkeessa \n",
    "household_info['Acorn'] = household_info['Acorn'].str.strip() # poistetaan välilyönnit Acorn sarakkeesta \n",
    "household_info['Acorn_grouped'] = household_info['Acorn_grouped'].str.strip() # poistetaan välilyönnit Acorn_grouped sarakkeesta"
   ]
  },
  {
   "cell_type": "code",
   "execution_count": 13,
   "metadata": {},
   "outputs": [],
   "source": [
    "household_info = household_info.drop_duplicates() # poistetaan duplikaatit \n",
    "household_info = household_info[household_info['Acorn_grouped'].notnull()] # poistetaan puuttuvat arvot Acorn_grouped sarakkeesta"
   ]
  },
  {
   "cell_type": "code",
   "execution_count": 14,
   "metadata": {},
   "outputs": [],
   "source": [
    "household_info['Acorn_grouped'] = household_info['Acorn_grouped'].replace({ # korvataan Acorn_grouped sarakkeen arvot\n",
    "    'Affluent': 'High Income', # korvataan Affluent High Income arvolla\n",
    "    'Comfortable': 'Middle Income', # korvataan Comfortable Middle Income arvolla\n",
    "    'Adversity': 'Low Income' # korvataan Adversity Low Income arvolla\n",
    "})"
   ]
  },
  {
   "cell_type": "code",
   "execution_count": 15,
   "metadata": {},
   "outputs": [],
   "source": [
    "household_info = household_info.reset_index(drop=True) # nollataan indeksi"
   ]
  },
  {
   "cell_type": "code",
   "execution_count": 16,
   "metadata": {},
   "outputs": [
    {
     "ename": "OSError",
     "evalue": "Cannot save file into a non-existent directory: 'data/processed'",
     "output_type": "error",
     "traceback": [
      "\u001b[0;31m---------------------------------------------------------------------------\u001b[0m",
      "\u001b[0;31mOSError\u001b[0m                                   Traceback (most recent call last)",
      "Cell \u001b[0;32mIn[16], line 1\u001b[0m\n\u001b[0;32m----> 1\u001b[0m \u001b[43mhousehold_info\u001b[49m\u001b[38;5;241;43m.\u001b[39;49m\u001b[43mto_csv\u001b[49m\u001b[43m(\u001b[49m\u001b[38;5;124;43m'\u001b[39;49m\u001b[38;5;124;43mdata/processed/cleaned_household_info.csv\u001b[39;49m\u001b[38;5;124;43m'\u001b[39;49m\u001b[43m,\u001b[49m\u001b[43m \u001b[49m\u001b[43mindex\u001b[49m\u001b[38;5;241;43m=\u001b[39;49m\u001b[38;5;28;43;01mFalse\u001b[39;49;00m\u001b[43m)\u001b[49m \u001b[38;5;66;03m# tallennetaan puhdistettu datasetti\u001b[39;00m\n",
      "File \u001b[0;32m/opt/anaconda3/envs/currentai-env/lib/python3.9/site-packages/pandas/util/_decorators.py:333\u001b[0m, in \u001b[0;36mdeprecate_nonkeyword_arguments.<locals>.decorate.<locals>.wrapper\u001b[0;34m(*args, **kwargs)\u001b[0m\n\u001b[1;32m    327\u001b[0m \u001b[38;5;28;01mif\u001b[39;00m \u001b[38;5;28mlen\u001b[39m(args) \u001b[38;5;241m>\u001b[39m num_allow_args:\n\u001b[1;32m    328\u001b[0m     warnings\u001b[38;5;241m.\u001b[39mwarn(\n\u001b[1;32m    329\u001b[0m         msg\u001b[38;5;241m.\u001b[39mformat(arguments\u001b[38;5;241m=\u001b[39m_format_argument_list(allow_args)),\n\u001b[1;32m    330\u001b[0m         \u001b[38;5;167;01mFutureWarning\u001b[39;00m,\n\u001b[1;32m    331\u001b[0m         stacklevel\u001b[38;5;241m=\u001b[39mfind_stack_level(),\n\u001b[1;32m    332\u001b[0m     )\n\u001b[0;32m--> 333\u001b[0m \u001b[38;5;28;01mreturn\u001b[39;00m \u001b[43mfunc\u001b[49m\u001b[43m(\u001b[49m\u001b[38;5;241;43m*\u001b[39;49m\u001b[43margs\u001b[49m\u001b[43m,\u001b[49m\u001b[43m \u001b[49m\u001b[38;5;241;43m*\u001b[39;49m\u001b[38;5;241;43m*\u001b[39;49m\u001b[43mkwargs\u001b[49m\u001b[43m)\u001b[49m\n",
      "File \u001b[0;32m/opt/anaconda3/envs/currentai-env/lib/python3.9/site-packages/pandas/core/generic.py:3967\u001b[0m, in \u001b[0;36mNDFrame.to_csv\u001b[0;34m(self, path_or_buf, sep, na_rep, float_format, columns, header, index, index_label, mode, encoding, compression, quoting, quotechar, lineterminator, chunksize, date_format, doublequote, escapechar, decimal, errors, storage_options)\u001b[0m\n\u001b[1;32m   3956\u001b[0m df \u001b[38;5;241m=\u001b[39m \u001b[38;5;28mself\u001b[39m \u001b[38;5;28;01mif\u001b[39;00m \u001b[38;5;28misinstance\u001b[39m(\u001b[38;5;28mself\u001b[39m, ABCDataFrame) \u001b[38;5;28;01melse\u001b[39;00m \u001b[38;5;28mself\u001b[39m\u001b[38;5;241m.\u001b[39mto_frame()\n\u001b[1;32m   3958\u001b[0m formatter \u001b[38;5;241m=\u001b[39m DataFrameFormatter(\n\u001b[1;32m   3959\u001b[0m     frame\u001b[38;5;241m=\u001b[39mdf,\n\u001b[1;32m   3960\u001b[0m     header\u001b[38;5;241m=\u001b[39mheader,\n\u001b[0;32m   (...)\u001b[0m\n\u001b[1;32m   3964\u001b[0m     decimal\u001b[38;5;241m=\u001b[39mdecimal,\n\u001b[1;32m   3965\u001b[0m )\n\u001b[0;32m-> 3967\u001b[0m \u001b[38;5;28;01mreturn\u001b[39;00m \u001b[43mDataFrameRenderer\u001b[49m\u001b[43m(\u001b[49m\u001b[43mformatter\u001b[49m\u001b[43m)\u001b[49m\u001b[38;5;241;43m.\u001b[39;49m\u001b[43mto_csv\u001b[49m\u001b[43m(\u001b[49m\n\u001b[1;32m   3968\u001b[0m \u001b[43m    \u001b[49m\u001b[43mpath_or_buf\u001b[49m\u001b[43m,\u001b[49m\n\u001b[1;32m   3969\u001b[0m \u001b[43m    \u001b[49m\u001b[43mlineterminator\u001b[49m\u001b[38;5;241;43m=\u001b[39;49m\u001b[43mlineterminator\u001b[49m\u001b[43m,\u001b[49m\n\u001b[1;32m   3970\u001b[0m \u001b[43m    \u001b[49m\u001b[43msep\u001b[49m\u001b[38;5;241;43m=\u001b[39;49m\u001b[43msep\u001b[49m\u001b[43m,\u001b[49m\n\u001b[1;32m   3971\u001b[0m \u001b[43m    \u001b[49m\u001b[43mencoding\u001b[49m\u001b[38;5;241;43m=\u001b[39;49m\u001b[43mencoding\u001b[49m\u001b[43m,\u001b[49m\n\u001b[1;32m   3972\u001b[0m \u001b[43m    \u001b[49m\u001b[43merrors\u001b[49m\u001b[38;5;241;43m=\u001b[39;49m\u001b[43merrors\u001b[49m\u001b[43m,\u001b[49m\n\u001b[1;32m   3973\u001b[0m \u001b[43m    \u001b[49m\u001b[43mcompression\u001b[49m\u001b[38;5;241;43m=\u001b[39;49m\u001b[43mcompression\u001b[49m\u001b[43m,\u001b[49m\n\u001b[1;32m   3974\u001b[0m \u001b[43m    \u001b[49m\u001b[43mquoting\u001b[49m\u001b[38;5;241;43m=\u001b[39;49m\u001b[43mquoting\u001b[49m\u001b[43m,\u001b[49m\n\u001b[1;32m   3975\u001b[0m \u001b[43m    \u001b[49m\u001b[43mcolumns\u001b[49m\u001b[38;5;241;43m=\u001b[39;49m\u001b[43mcolumns\u001b[49m\u001b[43m,\u001b[49m\n\u001b[1;32m   3976\u001b[0m \u001b[43m    \u001b[49m\u001b[43mindex_label\u001b[49m\u001b[38;5;241;43m=\u001b[39;49m\u001b[43mindex_label\u001b[49m\u001b[43m,\u001b[49m\n\u001b[1;32m   3977\u001b[0m \u001b[43m    \u001b[49m\u001b[43mmode\u001b[49m\u001b[38;5;241;43m=\u001b[39;49m\u001b[43mmode\u001b[49m\u001b[43m,\u001b[49m\n\u001b[1;32m   3978\u001b[0m \u001b[43m    \u001b[49m\u001b[43mchunksize\u001b[49m\u001b[38;5;241;43m=\u001b[39;49m\u001b[43mchunksize\u001b[49m\u001b[43m,\u001b[49m\n\u001b[1;32m   3979\u001b[0m \u001b[43m    \u001b[49m\u001b[43mquotechar\u001b[49m\u001b[38;5;241;43m=\u001b[39;49m\u001b[43mquotechar\u001b[49m\u001b[43m,\u001b[49m\n\u001b[1;32m   3980\u001b[0m \u001b[43m    \u001b[49m\u001b[43mdate_format\u001b[49m\u001b[38;5;241;43m=\u001b[39;49m\u001b[43mdate_format\u001b[49m\u001b[43m,\u001b[49m\n\u001b[1;32m   3981\u001b[0m \u001b[43m    \u001b[49m\u001b[43mdoublequote\u001b[49m\u001b[38;5;241;43m=\u001b[39;49m\u001b[43mdoublequote\u001b[49m\u001b[43m,\u001b[49m\n\u001b[1;32m   3982\u001b[0m \u001b[43m    \u001b[49m\u001b[43mescapechar\u001b[49m\u001b[38;5;241;43m=\u001b[39;49m\u001b[43mescapechar\u001b[49m\u001b[43m,\u001b[49m\n\u001b[1;32m   3983\u001b[0m \u001b[43m    \u001b[49m\u001b[43mstorage_options\u001b[49m\u001b[38;5;241;43m=\u001b[39;49m\u001b[43mstorage_options\u001b[49m\u001b[43m,\u001b[49m\n\u001b[1;32m   3984\u001b[0m \u001b[43m\u001b[49m\u001b[43m)\u001b[49m\n",
      "File \u001b[0;32m/opt/anaconda3/envs/currentai-env/lib/python3.9/site-packages/pandas/io/formats/format.py:1014\u001b[0m, in \u001b[0;36mDataFrameRenderer.to_csv\u001b[0;34m(self, path_or_buf, encoding, sep, columns, index_label, mode, compression, quoting, quotechar, lineterminator, chunksize, date_format, doublequote, escapechar, errors, storage_options)\u001b[0m\n\u001b[1;32m    993\u001b[0m     created_buffer \u001b[38;5;241m=\u001b[39m \u001b[38;5;28;01mFalse\u001b[39;00m\n\u001b[1;32m    995\u001b[0m csv_formatter \u001b[38;5;241m=\u001b[39m CSVFormatter(\n\u001b[1;32m    996\u001b[0m     path_or_buf\u001b[38;5;241m=\u001b[39mpath_or_buf,\n\u001b[1;32m    997\u001b[0m     lineterminator\u001b[38;5;241m=\u001b[39mlineterminator,\n\u001b[0;32m   (...)\u001b[0m\n\u001b[1;32m   1012\u001b[0m     formatter\u001b[38;5;241m=\u001b[39m\u001b[38;5;28mself\u001b[39m\u001b[38;5;241m.\u001b[39mfmt,\n\u001b[1;32m   1013\u001b[0m )\n\u001b[0;32m-> 1014\u001b[0m \u001b[43mcsv_formatter\u001b[49m\u001b[38;5;241;43m.\u001b[39;49m\u001b[43msave\u001b[49m\u001b[43m(\u001b[49m\u001b[43m)\u001b[49m\n\u001b[1;32m   1016\u001b[0m \u001b[38;5;28;01mif\u001b[39;00m created_buffer:\n\u001b[1;32m   1017\u001b[0m     \u001b[38;5;28;01massert\u001b[39;00m \u001b[38;5;28misinstance\u001b[39m(path_or_buf, StringIO)\n",
      "File \u001b[0;32m/opt/anaconda3/envs/currentai-env/lib/python3.9/site-packages/pandas/io/formats/csvs.py:251\u001b[0m, in \u001b[0;36mCSVFormatter.save\u001b[0;34m(self)\u001b[0m\n\u001b[1;32m    247\u001b[0m \u001b[38;5;250m\u001b[39m\u001b[38;5;124;03m\"\"\"\u001b[39;00m\n\u001b[1;32m    248\u001b[0m \u001b[38;5;124;03mCreate the writer & save.\u001b[39;00m\n\u001b[1;32m    249\u001b[0m \u001b[38;5;124;03m\"\"\"\u001b[39;00m\n\u001b[1;32m    250\u001b[0m \u001b[38;5;66;03m# apply compression and byte/text conversion\u001b[39;00m\n\u001b[0;32m--> 251\u001b[0m \u001b[38;5;28;01mwith\u001b[39;00m \u001b[43mget_handle\u001b[49m\u001b[43m(\u001b[49m\n\u001b[1;32m    252\u001b[0m \u001b[43m    \u001b[49m\u001b[38;5;28;43mself\u001b[39;49m\u001b[38;5;241;43m.\u001b[39;49m\u001b[43mfilepath_or_buffer\u001b[49m\u001b[43m,\u001b[49m\n\u001b[1;32m    253\u001b[0m \u001b[43m    \u001b[49m\u001b[38;5;28;43mself\u001b[39;49m\u001b[38;5;241;43m.\u001b[39;49m\u001b[43mmode\u001b[49m\u001b[43m,\u001b[49m\n\u001b[1;32m    254\u001b[0m \u001b[43m    \u001b[49m\u001b[43mencoding\u001b[49m\u001b[38;5;241;43m=\u001b[39;49m\u001b[38;5;28;43mself\u001b[39;49m\u001b[38;5;241;43m.\u001b[39;49m\u001b[43mencoding\u001b[49m\u001b[43m,\u001b[49m\n\u001b[1;32m    255\u001b[0m \u001b[43m    \u001b[49m\u001b[43merrors\u001b[49m\u001b[38;5;241;43m=\u001b[39;49m\u001b[38;5;28;43mself\u001b[39;49m\u001b[38;5;241;43m.\u001b[39;49m\u001b[43merrors\u001b[49m\u001b[43m,\u001b[49m\n\u001b[1;32m    256\u001b[0m \u001b[43m    \u001b[49m\u001b[43mcompression\u001b[49m\u001b[38;5;241;43m=\u001b[39;49m\u001b[38;5;28;43mself\u001b[39;49m\u001b[38;5;241;43m.\u001b[39;49m\u001b[43mcompression\u001b[49m\u001b[43m,\u001b[49m\n\u001b[1;32m    257\u001b[0m \u001b[43m    \u001b[49m\u001b[43mstorage_options\u001b[49m\u001b[38;5;241;43m=\u001b[39;49m\u001b[38;5;28;43mself\u001b[39;49m\u001b[38;5;241;43m.\u001b[39;49m\u001b[43mstorage_options\u001b[49m\u001b[43m,\u001b[49m\n\u001b[1;32m    258\u001b[0m \u001b[43m\u001b[49m\u001b[43m)\u001b[49m \u001b[38;5;28;01mas\u001b[39;00m handles:\n\u001b[1;32m    259\u001b[0m     \u001b[38;5;66;03m# Note: self.encoding is irrelevant here\u001b[39;00m\n\u001b[1;32m    260\u001b[0m     \u001b[38;5;28mself\u001b[39m\u001b[38;5;241m.\u001b[39mwriter \u001b[38;5;241m=\u001b[39m csvlib\u001b[38;5;241m.\u001b[39mwriter(\n\u001b[1;32m    261\u001b[0m         handles\u001b[38;5;241m.\u001b[39mhandle,\n\u001b[1;32m    262\u001b[0m         lineterminator\u001b[38;5;241m=\u001b[39m\u001b[38;5;28mself\u001b[39m\u001b[38;5;241m.\u001b[39mlineterminator,\n\u001b[0;32m   (...)\u001b[0m\n\u001b[1;32m    267\u001b[0m         quotechar\u001b[38;5;241m=\u001b[39m\u001b[38;5;28mself\u001b[39m\u001b[38;5;241m.\u001b[39mquotechar,\n\u001b[1;32m    268\u001b[0m     )\n\u001b[1;32m    270\u001b[0m     \u001b[38;5;28mself\u001b[39m\u001b[38;5;241m.\u001b[39m_save()\n",
      "File \u001b[0;32m/opt/anaconda3/envs/currentai-env/lib/python3.9/site-packages/pandas/io/common.py:749\u001b[0m, in \u001b[0;36mget_handle\u001b[0;34m(path_or_buf, mode, encoding, compression, memory_map, is_text, errors, storage_options)\u001b[0m\n\u001b[1;32m    747\u001b[0m \u001b[38;5;66;03m# Only for write methods\u001b[39;00m\n\u001b[1;32m    748\u001b[0m \u001b[38;5;28;01mif\u001b[39;00m \u001b[38;5;124m\"\u001b[39m\u001b[38;5;124mr\u001b[39m\u001b[38;5;124m\"\u001b[39m \u001b[38;5;129;01mnot\u001b[39;00m \u001b[38;5;129;01min\u001b[39;00m mode \u001b[38;5;129;01mand\u001b[39;00m is_path:\n\u001b[0;32m--> 749\u001b[0m     \u001b[43mcheck_parent_directory\u001b[49m\u001b[43m(\u001b[49m\u001b[38;5;28;43mstr\u001b[39;49m\u001b[43m(\u001b[49m\u001b[43mhandle\u001b[49m\u001b[43m)\u001b[49m\u001b[43m)\u001b[49m\n\u001b[1;32m    751\u001b[0m \u001b[38;5;28;01mif\u001b[39;00m compression:\n\u001b[1;32m    752\u001b[0m     \u001b[38;5;28;01mif\u001b[39;00m compression \u001b[38;5;241m!=\u001b[39m \u001b[38;5;124m\"\u001b[39m\u001b[38;5;124mzstd\u001b[39m\u001b[38;5;124m\"\u001b[39m:\n\u001b[1;32m    753\u001b[0m         \u001b[38;5;66;03m# compression libraries do not like an explicit text-mode\u001b[39;00m\n",
      "File \u001b[0;32m/opt/anaconda3/envs/currentai-env/lib/python3.9/site-packages/pandas/io/common.py:616\u001b[0m, in \u001b[0;36mcheck_parent_directory\u001b[0;34m(path)\u001b[0m\n\u001b[1;32m    614\u001b[0m parent \u001b[38;5;241m=\u001b[39m Path(path)\u001b[38;5;241m.\u001b[39mparent\n\u001b[1;32m    615\u001b[0m \u001b[38;5;28;01mif\u001b[39;00m \u001b[38;5;129;01mnot\u001b[39;00m parent\u001b[38;5;241m.\u001b[39mis_dir():\n\u001b[0;32m--> 616\u001b[0m     \u001b[38;5;28;01mraise\u001b[39;00m \u001b[38;5;167;01mOSError\u001b[39;00m(\u001b[38;5;124mrf\u001b[39m\u001b[38;5;124m\"\u001b[39m\u001b[38;5;124mCannot save file into a non-existent directory: \u001b[39m\u001b[38;5;124m'\u001b[39m\u001b[38;5;132;01m{\u001b[39;00mparent\u001b[38;5;132;01m}\u001b[39;00m\u001b[38;5;124m'\u001b[39m\u001b[38;5;124m\"\u001b[39m)\n",
      "\u001b[0;31mOSError\u001b[0m: Cannot save file into a non-existent directory: 'data/processed'"
     ]
    }
   ],
   "source": [
    "household_info.to_csv('data/processed/cleaned_household_info.csv', index=False) # tallennetaan puhdistettu datasetti"
   ]
  },
  {
   "cell_type": "markdown",
   "metadata": {},
   "source": [
    "## **2.ACORN DETAILS**"
   ]
  },
  {
   "cell_type": "code",
   "execution_count": null,
   "metadata": {},
   "outputs": [
    {
     "name": "stdout",
     "output_type": "stream",
     "text": [
      "<class 'pandas.core.frame.DataFrame'>\n",
      "RangeIndex: 826 entries, 0 to 825\n",
      "Data columns (total 20 columns):\n",
      " #   Column           Non-Null Count  Dtype  \n",
      "---  ------           --------------  -----  \n",
      " 0   MAIN CATEGORIES  826 non-null    object \n",
      " 1   CATEGORIES       826 non-null    object \n",
      " 2   REFERENCE        825 non-null    object \n",
      " 3   ACORN-A          826 non-null    float64\n",
      " 4   ACORN-B          826 non-null    float64\n",
      " 5   ACORN-C          826 non-null    float64\n",
      " 6   ACORN-D          826 non-null    float64\n",
      " 7   ACORN-E          826 non-null    float64\n",
      " 8   ACORN-F          826 non-null    float64\n",
      " 9   ACORN-G          826 non-null    float64\n",
      " 10  ACORN-H          826 non-null    float64\n",
      " 11  ACORN-I          826 non-null    float64\n",
      " 12  ACORN-J          826 non-null    float64\n",
      " 13  ACORN-K          826 non-null    float64\n",
      " 14  ACORN-L          826 non-null    float64\n",
      " 15  ACORN-M          826 non-null    float64\n",
      " 16  ACORN-N          826 non-null    float64\n",
      " 17  ACORN-O          826 non-null    float64\n",
      " 18  ACORN-P          826 non-null    float64\n",
      " 19  ACORN-Q          826 non-null    float64\n",
      "dtypes: float64(17), object(3)\n",
      "memory usage: 129.2+ KB\n",
      "None\n",
      "       ACORN-A  ACORN-B  ACORN-C  ACORN-D  ACORN-E  ACORN-F  ACORN-G  ACORN-H  \\\n",
      "count  826.000  826.000  826.000  826.000  826.000  826.000  826.000  826.000   \n",
      "mean   131.313  110.860  100.081  136.858  117.895   95.575  101.444   97.299   \n",
      "std    201.448   42.464   30.100   97.741   35.769   33.637   21.799   18.229   \n",
      "min     12.000    0.957    0.282    2.000   21.000    0.000    0.791    1.155   \n",
      "25%     87.000   94.000   86.000   93.092   99.000   81.000   94.138   91.000   \n",
      "50%    104.000  107.000  100.000  121.000  117.000   98.000  102.000   99.000   \n",
      "75%    128.000  122.000  113.000  154.000  135.000  108.000  109.000  105.000   \n",
      "max   3795.000  419.000  272.000 1159.035  286.000  462.000  295.000  192.000   \n",
      "\n",
      "       ACORN-I  ACORN-J  ACORN-K  ACORN-L  ACORN-M  ACORN-N  ACORN-O  ACORN-P  \\\n",
      "count  826.000  826.000  826.000  826.000  826.000  826.000  826.000  826.000   \n",
      "mean    87.029  104.217  127.483   93.724   91.410   79.912   95.579  100.141   \n",
      "std     30.338   19.924   97.428   22.177   22.910   33.995   25.936   37.210   \n",
      "min      6.363   16.051   17.000    0.394    0.715    2.000   11.000    9.000   \n",
      "25%     70.000   97.000   85.000   86.000   82.000   60.254   86.000   82.250   \n",
      "50%     88.000  105.000  109.000   95.000   93.000   74.000   96.000   96.000   \n",
      "75%    101.750  115.000  144.000  102.000  101.000   93.158  104.000  109.000   \n",
      "max    410.000  197.000 1821.000  280.000  161.000  295.000  252.000  389.000   \n",
      "\n",
      "       ACORN-Q  \n",
      "count  826.000  \n",
      "mean    90.855  \n",
      "std     37.634  \n",
      "min      1.000  \n",
      "25%     71.250  \n",
      "50%     87.000  \n",
      "75%    101.000  \n",
      "max    326.000  \n",
      "  MAIN CATEGORIES CATEGORIES  REFERENCE  ACORN-A  ACORN-B  ACORN-C  ACORN-D  \\\n",
      "0      POPULATION        Age    Age 0-4   77.000   83.000   72.000  100.000   \n",
      "1      POPULATION        Age   Age 5-17  117.000  109.000   87.000   69.000   \n",
      "2      POPULATION        Age  Age 18-24   64.000   73.000   67.000  107.000   \n",
      "3      POPULATION        Age  Age 25-34   52.000   63.000   62.000  197.000   \n",
      "4      POPULATION        Age  Age 35-49  102.000  105.000   91.000  124.000   \n",
      "\n",
      "   ACORN-E  ACORN-F  ACORN-G  ACORN-H  ACORN-I  ACORN-J  ACORN-K  ACORN-L  \\\n",
      "0  120.000   77.000   97.000   97.000   63.000  119.000   67.000  114.000   \n",
      "1   94.000   95.000  102.000  106.000   67.000   95.000   64.000  108.000   \n",
      "2  100.000   71.000   83.000   89.000   62.000  104.000  459.000   97.000   \n",
      "3  151.000   66.000   90.000   88.000   63.000  132.000  145.000  109.000   \n",
      "4  118.000   93.000  102.000  103.000   76.000  111.000   67.000   99.000   \n",
      "\n",
      "   ACORN-M  ACORN-N  ACORN-O  ACORN-P  ACORN-Q  \n",
      "0  113.000   89.000  123.000  138.000  133.000  \n",
      "1  116.000   86.000   89.000  136.000  106.000  \n",
      "2   96.000   86.000  117.000  109.000  110.000  \n",
      "3   96.000   90.000  140.000  120.000  120.000  \n",
      "4   98.000   90.000  102.000  103.000  100.000  \n"
     ]
    }
   ],
   "source": [
    "acorn_details_path = \"data/raw/acorn_details.csv\"\n",
    "acorn_details = pd.read_csv(acorn_details_path, encoding='latin1')\n",
    "\n",
    "print(acorn_details.info())\n",
    "print(acorn_details.describe())\n",
    "print(acorn_details.head())"
   ]
  },
  {
   "cell_type": "code",
   "execution_count": null,
   "metadata": {},
   "outputs": [
    {
     "data": {
      "text/plain": [
       "MainCategories    0\n",
       "SubCategories     0\n",
       "Reference         0\n",
       "AcornA            0\n",
       "AcornB            0\n",
       "AcornC            0\n",
       "AcornD            0\n",
       "AcornE            0\n",
       "AcornF            0\n",
       "AcornG            0\n",
       "AcornH            0\n",
       "AcornI            0\n",
       "AcornJ            0\n",
       "AcornK            0\n",
       "AcornL            0\n",
       "AcornM            0\n",
       "AcornN            0\n",
       "AcornO            0\n",
       "AcornP            0\n",
       "AcornQ            0\n",
       "dtype: int64"
      ]
     },
     "execution_count": 119,
     "metadata": {},
     "output_type": "execute_result"
    },
    {
     "data": {
      "text/plain": [
       "np.int64(0)"
      ]
     },
     "execution_count": 119,
     "metadata": {},
     "output_type": "execute_result"
    }
   ],
   "source": [
    "acorn_details.isnull().sum() # tarkistetaan puuttuvat arvot\n",
    "acorn_details.duplicated().sum() # tarkistetaan duplikaatit"
   ]
  },
  {
   "cell_type": "code",
   "execution_count": null,
   "metadata": {},
   "outputs": [],
   "source": [
    "acorn_details = acorn_details.drop_duplicates() # poistetaan duplikaatit"
   ]
  },
  {
   "cell_type": "code",
   "execution_count": null,
   "metadata": {},
   "outputs": [],
   "source": [
    "acorn_details['REFERENCE'] = acorn_details['REFERENCE'].fillna('Unknown') # täytetään puuttuvat arvot Unknown arvolla"
   ]
  },
  {
   "cell_type": "code",
   "execution_count": null,
   "metadata": {},
   "outputs": [],
   "source": [
    "acorn_details['MAIN CATEGORIES'] = acorn_details['MAIN CATEGORIES'].str.strip().str.title() # muutetaan kaikki kirjaimet isoiksi kirjaimiksi ja poistetaan ylimääräiset välilyönnit MAIN CATEGORIES sarakkeessa\n",
    "acorn_details['CATEGORIES'] = acorn_details['CATEGORIES'].str.strip().str.title() # muutetaan kaikki kirjaimet isoiksi kirjaimiksi ja poistetaan ylimääräiset välilyönnit CATEGORIES sarakkeessa\n",
    "acorn_details['REFERENCE'] = acorn_details['REFERENCE'].str.strip().str.title() # muutetaan kaikki kirjaimet isoiksi kirjaimiksi ja poistetaan ylimääräiset välilyönnit REFERENCE sarakkeessa"
   ]
  },
  {
   "cell_type": "code",
   "execution_count": null,
   "metadata": {},
   "outputs": [],
   "source": [
    "acorn_details = acorn_details.rename(columns={ # muutetaan sarakkeiden nimet\n",
    "    'MAIN CATEGORIES': 'MainCategories', # muutetaan MAIN CATEGORIES sarakkeen nimi MainCategories\n",
    "    'CATEGORIES': 'SubCategories', # muutetaan CATEGORIES sarakkeen nimi SubCategories\n",
    "    'REFERENCE': 'Reference', # muutetaan REFERENCE sarakkeen nimi Reference\n",
    "    'ACORN-A': 'AcornA',\n",
    "    'ACORN-B': 'AcornB',\n",
    "    'ACORN-C': 'AcornC',\n",
    "    'ACORN-D': 'AcornD',\n",
    "    'ACORN-E': 'AcornE',\n",
    "    'ACORN-F': 'AcornF',\n",
    "    'ACORN-G': 'AcornG',\n",
    "    'ACORN-H': 'AcornH',\n",
    "    'ACORN-I': 'AcornI',\n",
    "    'ACORN-J': 'AcornJ',\n",
    "    'ACORN-K': 'AcornK',\n",
    "    'ACORN-L': 'AcornL',\n",
    "    'ACORN-M': 'AcornM',\n",
    "    'ACORN-N': 'AcornN',\n",
    "    'ACORN-O': 'AcornO',\n",
    "    'ACORN-P': 'AcornP',\n",
    "    'ACORN-Q': 'AcornQ'\n",
    "})"
   ]
  },
  {
   "cell_type": "code",
   "execution_count": null,
   "metadata": {},
   "outputs": [],
   "source": [
    "numeric_columns = [col for col in acorn_details.columns if col.startswith('Acorn')] # valitaan sarakkeet, jotka alkavat Acorn kirjaimella \n",
    "for col in numeric_columns:\n",
    "    acorn_details[col] = pd.to_numeric(acorn_details[col], errors='coerce') # muutetaan sarakkeiden arvot numeerisiksi "
   ]
  },
  {
   "cell_type": "code",
   "execution_count": null,
   "metadata": {},
   "outputs": [],
   "source": [
    "for col in numeric_columns: \n",
    "    q1 = acorn_details[col].quantile(0.25) \n",
    "    q3 = acorn_details[col].quantile(0.75)\n",
    "    iqr = q3 - q1\n",
    "    lower_bound = q1 - 1.5 * iqr\n",
    "    upper_bound = q3 + 1.5 * iqr\n",
    "    acorn_details = acorn_details[(acorn_details[col] >= lower_bound) & (acorn_details[col] <= upper_bound)] # poistetaan outlierit"
   ]
  },
  {
   "cell_type": "code",
   "execution_count": null,
   "metadata": {},
   "outputs": [],
   "source": [
    "acorn_details = acorn_details.reset_index(drop=True) # nollataan indeksi"
   ]
  },
  {
   "cell_type": "code",
   "execution_count": null,
   "metadata": {},
   "outputs": [],
   "source": [
    "acorn_details.to_csv('data/processed/cleaned_acorn_details.csv', index=False) # tallennetaan puhdistettu datasetti"
   ]
  },
  {
   "cell_type": "markdown",
   "metadata": {},
   "source": [
    "## **3.UK BANK HOLIDAYS**"
   ]
  },
  {
   "cell_type": "code",
   "execution_count": null,
   "metadata": {},
   "outputs": [
    {
     "name": "stdout",
     "output_type": "stream",
     "text": [
      "<class 'pandas.core.frame.DataFrame'>\n",
      "RangeIndex: 25 entries, 0 to 24\n",
      "Data columns (total 2 columns):\n",
      " #   Column         Non-Null Count  Dtype \n",
      "---  ------         --------------  ----- \n",
      " 0   Bank holidays  25 non-null     object\n",
      " 1   Type           25 non-null     object\n",
      "dtypes: object(2)\n",
      "memory usage: 528.0+ bytes\n",
      "None\n",
      "       Bank holidays        Type\n",
      "count             25          25\n",
      "unique            25          11\n",
      "top       2012-12-26  Boxing Day\n",
      "freq               1           3\n",
      "  Bank holidays                                          Type\n",
      "0    2012-12-26                                    Boxing Day\n",
      "1    2012-12-25                                 Christmas Day\n",
      "2    2012-08-27                           Summer bank holiday\n",
      "3    2012-05-06  Queen?s Diamond Jubilee (extra bank holiday)\n",
      "4    2012-04-06          Spring bank holiday (substitute day)\n"
     ]
    }
   ],
   "source": [
    "uk_bank_holidays_path = \"data/raw/uk_bank_holidays.csv\"\n",
    "uk_bank_holidays = pd.read_csv(uk_bank_holidays_path)\n",
    "\n",
    "print(uk_bank_holidays.info())\n",
    "print(uk_bank_holidays.describe())\n",
    "print(uk_bank_holidays.head())"
   ]
  },
  {
   "cell_type": "code",
   "execution_count": null,
   "metadata": {},
   "outputs": [
    {
     "data": {
      "text/plain": [
       "Bank holidays    0\n",
       "dtype: int64"
      ]
     },
     "execution_count": 120,
     "metadata": {},
     "output_type": "execute_result"
    },
    {
     "data": {
      "text/plain": [
       "np.int64(0)"
      ]
     },
     "execution_count": 120,
     "metadata": {},
     "output_type": "execute_result"
    }
   ],
   "source": [
    "uk_bank_holidays.isnull().sum() # tarkistetaan puuttuvat arvot\n",
    "uk_bank_holidays.duplicated().sum() # tarkistetaan duplikaatit"
   ]
  },
  {
   "cell_type": "code",
   "execution_count": null,
   "metadata": {},
   "outputs": [],
   "source": [
    "uk_bank_holidays['Bank holidays']= uk_bank_holidays['Bank holidays'].str.strip().str.title() # muutetaan kaikki kirjaimet isoiksi kirjaimiksi ja poistetaan ylimääräiset välilyönnit Bank holidays sarakkeessa\n",
    "uk_bank_holidays['Type']= uk_bank_holidays['Type'].str.strip().str.title() # muutetaan kaikki kirjaimet isoiksi kirjaimiksi ja poistetaan ylimääräiset välilyönnit Type sarakkeessa"
   ]
  },
  {
   "cell_type": "code",
   "execution_count": null,
   "metadata": {},
   "outputs": [],
   "source": [
    "uk_bank_holidays['Type'] = uk_bank_holidays['Type'].str.replace('?', \"'\", regex=False) # korvataan ? merkki ' merkillä Type sarakkeessa "
   ]
  },
  {
   "cell_type": "code",
   "execution_count": null,
   "metadata": {},
   "outputs": [],
   "source": [
    "uk_bank_holidays = uk_bank_holidays.drop_duplicates() # poistetaan duplikaatit "
   ]
  },
  {
   "cell_type": "code",
   "execution_count": null,
   "metadata": {},
   "outputs": [],
   "source": [
    "uk_bank_holidays = pd.to_datetime(uk_bank_holidays['Bank holidays'], errors='coerce') # muutetaan Bank holidays sarakkeen arvot päivämäärämuotoon"
   ]
  },
  {
   "cell_type": "code",
   "execution_count": null,
   "metadata": {},
   "outputs": [],
   "source": [
    "if isinstance(uk_bank_holidays, pd.Series):\n",
    "    uk_bank_holidays = uk_bank_holidays.to_frame() # muutetaan Series DataFrameksi "
   ]
  },
  {
   "cell_type": "code",
   "execution_count": null,
   "metadata": {},
   "outputs": [],
   "source": [
    "uk_bank_holidays['Bank holidays'] = pd.to_datetime(uk_bank_holidays['Bank holidays'], errors='coerce') # muutetaan Bank holidays sarakkeen arvot päivämäärämuotoon"
   ]
  },
  {
   "cell_type": "code",
   "execution_count": null,
   "metadata": {},
   "outputs": [],
   "source": [
    "uk_bank_holidays = uk_bank_holidays.sort_values(by='Bank holidays').reset_index(drop=True) # järjestetään arvot Bank holidays sarakkeen mukaan ja nollataan indeksi\n"
   ]
  },
  {
   "cell_type": "code",
   "execution_count": null,
   "metadata": {},
   "outputs": [],
   "source": [
    "uk_bank_holidays.to_csv('data/processed/cleaned_uk_bank_holidays.csv', index=False) # tallennetaan puhdistettu datasetti "
   ]
  },
  {
   "cell_type": "markdown",
   "metadata": {},
   "source": [
    "## **4.WEATHER DAILY**"
   ]
  },
  {
   "cell_type": "code",
   "execution_count": null,
   "metadata": {},
   "outputs": [
    {
     "name": "stdout",
     "output_type": "stream",
     "text": [
      "<class 'pandas.core.frame.DataFrame'>\n",
      "RangeIndex: 882 entries, 0 to 881\n",
      "Data columns (total 32 columns):\n",
      " #   Column                       Non-Null Count  Dtype  \n",
      "---  ------                       --------------  -----  \n",
      " 0   temperatureMax               882 non-null    float64\n",
      " 1   temperatureMaxTime           882 non-null    object \n",
      " 2   windBearing                  882 non-null    int64  \n",
      " 3   icon                         882 non-null    object \n",
      " 4   dewPoint                     882 non-null    float64\n",
      " 5   temperatureMinTime           882 non-null    object \n",
      " 6   cloudCover                   881 non-null    float64\n",
      " 7   windSpeed                    882 non-null    float64\n",
      " 8   pressure                     882 non-null    float64\n",
      " 9   apparentTemperatureMinTime   882 non-null    object \n",
      " 10  apparentTemperatureHigh      882 non-null    float64\n",
      " 11  precipType                   882 non-null    object \n",
      " 12  visibility                   882 non-null    float64\n",
      " 13  humidity                     882 non-null    float64\n",
      " 14  apparentTemperatureHighTime  882 non-null    object \n",
      " 15  apparentTemperatureLow       882 non-null    float64\n",
      " 16  apparentTemperatureMax       882 non-null    float64\n",
      " 17  uvIndex                      881 non-null    float64\n",
      " 18  time                         882 non-null    object \n",
      " 19  sunsetTime                   882 non-null    object \n",
      " 20  temperatureLow               882 non-null    float64\n",
      " 21  temperatureMin               882 non-null    float64\n",
      " 22  temperatureHigh              882 non-null    float64\n",
      " 23  sunriseTime                  882 non-null    object \n",
      " 24  temperatureHighTime          882 non-null    object \n",
      " 25  uvIndexTime                  881 non-null    object \n",
      " 26  summary                      882 non-null    object \n",
      " 27  temperatureLowTime           882 non-null    object \n",
      " 28  apparentTemperatureMin       882 non-null    float64\n",
      " 29  apparentTemperatureMaxTime   882 non-null    object \n",
      " 30  apparentTemperatureLowTime   882 non-null    object \n",
      " 31  moonPhase                    882 non-null    float64\n",
      "dtypes: float64(16), int64(1), object(15)\n",
      "memory usage: 220.6+ KB\n",
      "None\n",
      "       temperatureMax  windBearing  dewPoint  cloudCover  windSpeed  pressure  \\\n",
      "count         882.000      882.000   882.000     881.000    882.000   882.000   \n",
      "mean           13.660      195.703     6.530       0.478      3.582  1014.128   \n",
      "std             6.183       89.341     4.831       0.194      1.694    11.073   \n",
      "min            -0.060        0.000    -7.840       0.000      0.200   979.250   \n",
      "25%             9.502      120.500     3.180       0.350      2.370  1007.435   \n",
      "50%            12.625      219.000     6.380       0.470      3.440  1014.615   \n",
      "75%            17.920      255.000    10.058       0.600      4.578  1021.755   \n",
      "max            32.400      359.000    17.770       1.000      9.960  1040.920   \n",
      "\n",
      "       apparentTemperatureHigh  visibility  humidity  apparentTemperatureLow  \\\n",
      "count                  882.000     882.000   882.000                 882.000   \n",
      "mean                    12.724      11.167     0.782                   6.085   \n",
      "std                      7.279       2.466     0.095                   6.032   \n",
      "min                     -6.460       1.480     0.430                  -8.880   \n",
      "25%                      7.033      10.328     0.720                   1.522   \n",
      "50%                     12.470      11.970     0.790                   5.315   \n",
      "75%                     17.910      12.830     0.860                  11.468   \n",
      "max                     32.420      15.340     0.980                  20.540   \n",
      "\n",
      "       apparentTemperatureMax  uvIndex  temperatureLow  temperatureMin  \\\n",
      "count                 882.000  881.000         882.000         882.000   \n",
      "mean                   12.929    2.543           7.710           7.414   \n",
      "std                     7.105    1.833           4.871           4.889   \n",
      "min                    -4.110    0.000          -5.640          -5.640   \n",
      "25%                     7.332    1.000           3.990           3.705   \n",
      "50%                    12.625    2.000           7.540           7.100   \n",
      "75%                    17.920    4.000          11.468          11.277   \n",
      "max                    32.420    7.000          20.540          20.540   \n",
      "\n",
      "       temperatureHigh  apparentTemperatureMin  moonPhase  \n",
      "count          882.000                 882.000    882.000  \n",
      "mean            13.542                   5.738      0.501  \n",
      "std              6.260                   6.049      0.287  \n",
      "min             -0.810                  -8.880      0.000  \n",
      "25%              9.213                   1.105      0.260  \n",
      "50%             12.470                   4.885      0.500  \n",
      "75%             17.910                  11.277      0.750  \n",
      "max             32.400                  20.540      0.990  \n",
      "   temperatureMax   temperatureMaxTime  windBearing                 icon  \\\n",
      "0          11.960  2011-11-11 23:00:00          123                  fog   \n",
      "1           8.590  2011-12-11 14:00:00          198    partly-cloudy-day   \n",
      "2          10.330  2011-12-27 02:00:00          225    partly-cloudy-day   \n",
      "3           8.070  2011-12-02 23:00:00          232                 wind   \n",
      "4           8.220  2011-12-24 23:00:00          252  partly-cloudy-night   \n",
      "\n",
      "   dewPoint   temperatureMinTime  cloudCover  windSpeed  pressure  \\\n",
      "0     9.400  2011-11-11 07:00:00       0.790      3.880  1016.080   \n",
      "1     4.490  2011-12-11 01:00:00       0.560      3.940  1007.710   \n",
      "2     5.470  2011-12-27 23:00:00       0.850      3.540  1032.760   \n",
      "3     3.690  2011-12-02 07:00:00       0.320      3.000  1012.120   \n",
      "4     2.790  2011-12-24 07:00:00       0.370      4.460  1028.170   \n",
      "\n",
      "  apparentTemperatureMinTime  apparentTemperatureHigh precipType  visibility  \\\n",
      "0        2011-11-11 07:00:00                   10.870       rain       3.300   \n",
      "1        2011-12-11 02:00:00                    5.620       rain      12.090   \n",
      "2        2011-12-27 22:00:00                   10.330       rain      13.390   \n",
      "3        2011-12-02 07:00:00                    5.330       rain      11.890   \n",
      "4        2011-12-24 07:00:00                    5.020       rain      13.160   \n",
      "\n",
      "   humidity apparentTemperatureHighTime  apparentTemperatureLow  \\\n",
      "0     0.950         2011-11-11 19:00:00                  10.870   \n",
      "1     0.880         2011-12-11 19:00:00                  -0.640   \n",
      "2     0.740         2011-12-27 14:00:00                   5.520   \n",
      "3     0.870         2011-12-02 12:00:00                   3.260   \n",
      "4     0.800         2011-12-24 15:00:00                   4.370   \n",
      "\n",
      "   apparentTemperatureMax  uvIndex                 time           sunsetTime  \\\n",
      "0                  11.960    1.000  2011-11-11 00:00:00  2011-11-11 16:19:21   \n",
      "1                   5.720    1.000  2011-12-11 00:00:00  2011-12-11 15:52:53   \n",
      "2                  10.330    0.000  2011-12-27 00:00:00  2011-12-27 15:57:56   \n",
      "3                   5.330    1.000  2011-12-02 00:00:00  2011-12-02 15:56:17   \n",
      "4                   5.320    1.000  2011-12-24 00:00:00  2011-12-24 15:55:55   \n",
      "\n",
      "   temperatureLow  temperatureMin  temperatureHigh          sunriseTime  \\\n",
      "0          10.870           8.850           10.870  2011-11-11 07:12:14   \n",
      "1           3.090           2.480            8.590  2011-12-11 07:57:02   \n",
      "2           8.030           8.030           10.330  2011-12-27 08:07:06   \n",
      "3           6.330           2.560            7.360  2011-12-02 07:46:09   \n",
      "4           7.450           3.170            7.930  2011-12-24 08:06:15   \n",
      "\n",
      "   temperatureHighTime          uvIndexTime  \\\n",
      "0  2011-11-11 19:00:00  2011-11-11 11:00:00   \n",
      "1  2011-12-11 14:00:00  2011-12-11 12:00:00   \n",
      "2  2011-12-27 14:00:00  2011-12-27 00:00:00   \n",
      "3  2011-12-02 12:00:00  2011-12-02 10:00:00   \n",
      "4  2011-12-24 15:00:00  2011-12-24 13:00:00   \n",
      "\n",
      "                                             summary   temperatureLowTime  \\\n",
      "0                             Foggy until afternoon.  2011-11-11 19:00:00   \n",
      "1                  Partly cloudy throughout the day.  2011-12-12 07:00:00   \n",
      "2                  Mostly cloudy throughout the day.  2011-12-27 23:00:00   \n",
      "3  Partly cloudy throughout the day and breezy ov...  2011-12-02 19:00:00   \n",
      "4                  Mostly cloudy throughout the day.  2011-12-24 19:00:00   \n",
      "\n",
      "   apparentTemperatureMin apparentTemperatureMaxTime  \\\n",
      "0                   6.480        2011-11-11 23:00:00   \n",
      "1                   0.110        2011-12-11 20:00:00   \n",
      "2                   5.590        2011-12-27 02:00:00   \n",
      "3                   0.460        2011-12-02 12:00:00   \n",
      "4                  -0.510        2011-12-24 23:00:00   \n",
      "\n",
      "  apparentTemperatureLowTime  moonPhase  \n",
      "0        2011-11-11 19:00:00      0.520  \n",
      "1        2011-12-12 08:00:00      0.530  \n",
      "2        2011-12-28 00:00:00      0.100  \n",
      "3        2011-12-02 19:00:00      0.250  \n",
      "4        2011-12-24 20:00:00      0.990  \n"
     ]
    }
   ],
   "source": [
    "weather_daily_path = \"data/raw/weather_daily_darksky.csv\"\n",
    "weather_daily = pd.read_csv(weather_daily_path)\n",
    "\n",
    "print(weather_daily.info())\n",
    "print(weather_daily.describe())\n",
    "print(weather_daily.head())"
   ]
  },
  {
   "cell_type": "code",
   "execution_count": null,
   "metadata": {},
   "outputs": [
    {
     "data": {
      "text/plain": [
       "temperatureMax                 0\n",
       "temperatureMaxTime             0\n",
       "windBearing                    0\n",
       "icon                           0\n",
       "dewPoint                       0\n",
       "temperatureMinTime             0\n",
       "cloudCover                     1\n",
       "windSpeed                      0\n",
       "pressure                       0\n",
       "apparentTemperatureMinTime     0\n",
       "apparentTemperatureHigh        0\n",
       "precipType                     0\n",
       "visibility                     0\n",
       "humidity                       0\n",
       "apparentTemperatureHighTime    0\n",
       "apparentTemperatureLow         0\n",
       "apparentTemperatureMax         0\n",
       "uvIndex                        1\n",
       "time                           0\n",
       "sunsetTime                     0\n",
       "temperatureLow                 0\n",
       "temperatureMin                 0\n",
       "temperatureHigh                0\n",
       "sunriseTime                    0\n",
       "temperatureHighTime            0\n",
       "uvIndexTime                    1\n",
       "summary                        0\n",
       "temperatureLowTime             0\n",
       "apparentTemperatureMin         0\n",
       "apparentTemperatureMaxTime     0\n",
       "apparentTemperatureLowTime     0\n",
       "moonPhase                      0\n",
       "dtype: int64"
      ]
     },
     "execution_count": 116,
     "metadata": {},
     "output_type": "execute_result"
    },
    {
     "data": {
      "text/plain": [
       "np.int64(0)"
      ]
     },
     "execution_count": 116,
     "metadata": {},
     "output_type": "execute_result"
    }
   ],
   "source": [
    "weather_daily.isnull().sum() # tarkistetaan puuttuvat arvot\n",
    "weather_daily.duplicated().sum() # tarkistetaan duplikaatit"
   ]
  },
  {
   "cell_type": "code",
   "execution_count": null,
   "metadata": {},
   "outputs": [],
   "source": [
    "weather_daily['cloudCover'] = weather_daily['cloudCover'].fillna(weather_daily['cloudCover'].median()) # täytetään puuttuvat arvot cloudCover sarakkeessa mediaanilla\n",
    "weather_daily['uvIndex'] = weather_daily['uvIndex'].fillna(weather_daily['uvIndex'].median()) # täytetään puuttuvat arvot uvIndex sarakkeessa mediaanilla "
   ]
  },
  {
   "cell_type": "code",
   "execution_count": null,
   "metadata": {},
   "outputs": [],
   "source": [
    "weather_daily['time'] = pd.to_datetime(weather_daily['time']) # muutetaan time sarakkeen arvot päivämäärämuotoon\n",
    "weather_daily['sunriseTime'] = pd.to_datetime(weather_daily['sunriseTime']) # muutetaan sunriseTime sarakkeen arvot päivämäärämuotoon\n",
    "weather_daily['sunsetTime'] = pd.to_datetime(weather_daily['sunsetTime']) # muutetaan sunsetTime sarakkeen arvot päivämäärämuotoon\n",
    "weather_daily['temperatureMaxTime'] = pd.to_datetime(weather_daily['temperatureMaxTime']) # muutetaan temperatureMaxTime sarakkeen arvot päivämäärämuotoon\n",
    "weather_daily['temperatureMinTime'] = pd.to_datetime(weather_daily['temperatureMinTime']) # muutetaan temperatureMinTime sarakkeen arvot päivämäärämuotoon"
   ]
  },
  {
   "cell_type": "code",
   "execution_count": null,
   "metadata": {},
   "outputs": [],
   "source": [
    "weather_daily = weather_daily.drop_duplicates() # poistetaan duplikaatit"
   ]
  },
  {
   "cell_type": "code",
   "execution_count": null,
   "metadata": {},
   "outputs": [],
   "source": [
    "numeric_columns = weather_daily.select_dtypes(include=['float64', 'int64']).columns # valitaan numeeriset sarakkeet \n",
    "weather_daily[numeric_columns] = weather_daily[numeric_columns].apply(pd.to_numeric, errors='coerce') # muutetaan numeeriset sarakkeet numeerisiksi"
   ]
  },
  {
   "cell_type": "code",
   "execution_count": null,
   "metadata": {},
   "outputs": [
    {
     "name": "stdout",
     "output_type": "stream",
     "text": [
      "Index(['TempMax', 'temperatureMaxTime', 'windBearing', 'icon', 'dewPoint',\n",
      "       'temperatureMinTime', 'CloudCover', 'WindSpeed', 'pressure',\n",
      "       'apparentTemperatureMinTime', 'apparentTemperatureHigh',\n",
      "       'PrecipitationType', 'visibility', 'Humidity',\n",
      "       'apparentTemperatureHighTime', 'apparentTemperatureLow',\n",
      "       'apparentTemperatureMax', 'uvIndex', 'Date', 'sunsetTime', 'TempLow',\n",
      "       'TempMin', 'TempHigh', 'sunriseTime', 'temperatureHighTime',\n",
      "       'uvIndexTime', 'summary', 'temperatureLowTime',\n",
      "       'apparentTemperatureMin', 'apparentTemperatureMaxTime',\n",
      "       'apparentTemperatureLowTime', 'MoonPhase', 'DaylightDuration'],\n",
      "      dtype='object')\n"
     ]
    }
   ],
   "source": [
    "weather_daily = weather_daily.rename(columns={ # muutetaan sarakkeiden nimet\n",
    "    'time': 'Date',\n",
    "    'temperatureMax': 'TempMax',\n",
    "    'temperatureMin': 'TempMin',\n",
    "    'temperatureHigh': 'TempHigh',\n",
    "    'temperatureLow': 'TempLow',\n",
    "    'humidity': 'Humidity',\n",
    "    'windSpeed': 'WindSpeed',\n",
    "    'precipType': 'PrecipitationType',\n",
    "    'cloudCover': 'CloudCover',\n",
    "    'moonPhase': 'MoonPhase'\n",
    "})\n",
    "print(weather_daily.columns)"
   ]
  },
  {
   "cell_type": "code",
   "execution_count": null,
   "metadata": {},
   "outputs": [
    {
     "name": "stdout",
     "output_type": "stream",
     "text": [
      "Column: TempMax, Lower bound: -3.014999999999999, Upper bound: 31.185\n",
      "Column: windBearing, Lower bound: 29.5, Upper bound: 393.5\n",
      "Column: dewPoint, Lower bound: -7.015000000000002, Upper bound: 20.745000000000005\n",
      "Column: CloudCover, Lower bound: -0.01624999999999982, Upper bound: 0.9337499999999997\n",
      "Column: WindSpeed, Lower bound: -0.5462500000000001, Upper bound: 7.723750000000001\n",
      "Column: pressure, Lower bound: 987.1562499999998, Upper bound: 1041.8662500000003\n",
      "Column: apparentTemperatureHigh, Lower bound: -8.661249999999995, Upper bound: 34.76875\n",
      "Column: visibility, Lower bound: 8.419999999999998, Upper bound: 15.620000000000001\n",
      "Column: Humidity, Lower bound: 0.5149999999999999, Upper bound: 1.035\n",
      "Column: apparentTemperatureLow, Lower bound: -13.465, Upper bound: 27.295\n",
      "Column: apparentTemperatureMax, Lower bound: -6.522499999999999, Upper bound: 33.777499999999996\n",
      "Column: uvIndex, Lower bound: -3.5, Upper bound: 8.5\n",
      "Column: TempLow, Lower bound: -6.965, Upper bound: 23.395\n",
      "Column: TempMin, Lower bound: -7.26, Upper bound: 23.22\n",
      "Column: TempHigh, Lower bound: -3.709999999999999, Upper bound: 32.089999999999996\n",
      "Column: apparentTemperatureMin, Lower bound: -13.734999999999998, Upper bound: 27.104999999999997\n",
      "Column: MoonPhase, Lower bound: -0.5275, Upper bound: 1.5325\n",
      "Column: DaylightDuration, Lower bound: -0.013055555555556708, Upper bound: 23.963611111111113\n"
     ]
    }
   ],
   "source": [
    "for col in weather_daily.select_dtypes(include=['float64', 'int64']).columns:\n",
    "    q1 = weather_daily[col].quantile(0.25)\n",
    "    q3 = weather_daily[col].quantile(0.75)\n",
    "    iqr = q3 - q1\n",
    "    lower_bound = q1 - 1.5 * iqr\n",
    "    upper_bound = q3 + 1.5 * iqr\n",
    "    weather_daily = weather_daily[(weather_daily[col] >= lower_bound) & (weather_daily[col] <= upper_bound)] # poistetaan outlierit\n",
    "    print(f\"Column: {col}, Lower bound: {lower_bound}, Upper bound: {upper_bound}\") "
   ]
  },
  {
   "cell_type": "code",
   "execution_count": null,
   "metadata": {},
   "outputs": [
    {
     "name": "stdout",
     "output_type": "stream",
     "text": [
      "1   7.931\n",
      "2   7.847\n",
      "3   8.169\n",
      "4   7.828\n",
      "5   7.867\n",
      "Name: DaylightDuration, dtype: float64\n"
     ]
    }
   ],
   "source": [
    "weather_daily['DaylightDuration'] = (weather_daily['sunsetTime'] - weather_daily['sunriseTime']).dt.total_seconds() / 3600 # lasketaan päivänvalon kesto tuntien mukaan \n",
    "print(weather_daily['DaylightDuration'].head()) # tulostetaan päivänvalon kesto "
   ]
  },
  {
   "cell_type": "code",
   "execution_count": null,
   "metadata": {},
   "outputs": [],
   "source": [
    "weather_daily.to_csv('data/processed/cleaned_weather_daily.csv', index=False) # tallennetaan puhdistettu datasetti"
   ]
  },
  {
   "cell_type": "markdown",
   "metadata": {},
   "source": [
    "## **5.WEATHER HOURLY**"
   ]
  },
  {
   "cell_type": "code",
   "execution_count": null,
   "metadata": {},
   "outputs": [
    {
     "name": "stdout",
     "output_type": "stream",
     "text": [
      "<class 'pandas.core.frame.DataFrame'>\n",
      "RangeIndex: 21165 entries, 0 to 21164\n",
      "Data columns (total 12 columns):\n",
      " #   Column               Non-Null Count  Dtype  \n",
      "---  ------               --------------  -----  \n",
      " 0   visibility           21165 non-null  float64\n",
      " 1   windBearing          21165 non-null  int64  \n",
      " 2   temperature          21165 non-null  float64\n",
      " 3   time                 21165 non-null  object \n",
      " 4   dewPoint             21165 non-null  float64\n",
      " 5   pressure             21152 non-null  float64\n",
      " 6   apparentTemperature  21165 non-null  float64\n",
      " 7   windSpeed            21165 non-null  float64\n",
      " 8   precipType           21165 non-null  object \n",
      " 9   icon                 21165 non-null  object \n",
      " 10  humidity             21165 non-null  float64\n",
      " 11  summary              21165 non-null  object \n",
      "dtypes: float64(7), int64(1), object(4)\n",
      "memory usage: 1.9+ MB\n",
      "None\n",
      "       visibility  windBearing  temperature  dewPoint  pressure  \\\n",
      "count   21165.000    21165.000    21165.000 21165.000 21152.000   \n",
      "mean       11.166      195.686       10.471     6.531  1014.125   \n",
      "std         3.099       90.629        5.782     5.042    11.388   \n",
      "min         0.180        0.000       -5.640    -9.980   975.740   \n",
      "25%        10.120      121.000        6.470     2.820  1007.430   \n",
      "50%        12.260      217.000        9.930     6.570  1014.780   \n",
      "75%        13.080      256.000       14.310    10.330  1022.050   \n",
      "max        16.090      359.000       32.400    19.880  1043.320   \n",
      "\n",
      "       apparentTemperature  windSpeed  humidity  \n",
      "count            21165.000  21165.000 21165.000  \n",
      "mean                 9.230      3.905     0.782  \n",
      "std                  6.941      2.027     0.140  \n",
      "min                 -8.880      0.040     0.230  \n",
      "25%                  3.900      2.420     0.700  \n",
      "50%                  9.360      3.680     0.810  \n",
      "75%                 14.320      5.070     0.890  \n",
      "max                 32.420     14.800     1.000  \n",
      "   visibility  windBearing  temperature                 time  dewPoint  \\\n",
      "0       5.970          104       10.240  2011-11-11 00:00:00     8.860   \n",
      "1       4.880           99        9.760  2011-11-11 01:00:00     8.830   \n",
      "2       3.700           98        9.460  2011-11-11 02:00:00     8.790   \n",
      "3       3.120           99        9.230  2011-11-11 03:00:00     8.630   \n",
      "4       1.850          111        9.260  2011-11-11 04:00:00     9.210   \n",
      "\n",
      "   pressure  apparentTemperature  windSpeed precipType                 icon  \\\n",
      "0  1016.760               10.240      2.770       rain  partly-cloudy-night   \n",
      "1  1016.630                8.240      2.950       rain  partly-cloudy-night   \n",
      "2  1016.360                7.760      3.170       rain  partly-cloudy-night   \n",
      "3  1016.280                7.440      3.250       rain                  fog   \n",
      "4  1015.980                7.240      3.700       rain                  fog   \n",
      "\n",
      "   humidity        summary  \n",
      "0     0.910  Partly Cloudy  \n",
      "1     0.940  Partly Cloudy  \n",
      "2     0.960  Partly Cloudy  \n",
      "3     0.960          Foggy  \n",
      "4     1.000          Foggy  \n"
     ]
    }
   ],
   "source": [
    "weather_hourly_path = \"data/raw/weather_hourly_darksky.csv\"\n",
    "weather_hourly = pd.read_csv(weather_hourly_path)\n",
    "\n",
    "print(weather_hourly.info())\n",
    "print(weather_hourly.describe())\n",
    "print(weather_hourly.head())"
   ]
  },
  {
   "cell_type": "code",
   "execution_count": null,
   "metadata": {},
   "outputs": [
    {
     "name": "stdout",
     "output_type": "stream",
     "text": [
      "visibility              0\n",
      "windBearing             0\n",
      "temperature             0\n",
      "time                    0\n",
      "dewPoint                0\n",
      "pressure               13\n",
      "apparentTemperature     0\n",
      "windSpeed               0\n",
      "precipType              0\n",
      "icon                    0\n",
      "humidity                0\n",
      "summary                 0\n",
      "dtype: int64\n"
     ]
    }
   ],
   "source": [
    "print(weather_hourly.isnull().sum()) # tarkistetaan puuttuvat arvot"
   ]
  },
  {
   "cell_type": "code",
   "execution_count": null,
   "metadata": {},
   "outputs": [],
   "source": [
    "weather_hourly['pressure'] = weather_hourly['pressure'].fillna(weather_hourly['pressure'].median()) # täytetään puuttuvat arvot pressure sarakkeessa mediaanilla koska se on jatkuva muuttuja "
   ]
  },
  {
   "cell_type": "code",
   "execution_count": null,
   "metadata": {},
   "outputs": [],
   "source": [
    "weather_hourly['time'] = pd.to_datetime(weather_hourly['time']) # muutetaan time sarakkeen arvot päivämäärämuotoon"
   ]
  },
  {
   "cell_type": "code",
   "execution_count": null,
   "metadata": {},
   "outputs": [],
   "source": [
    "weather_hourly['precipType'] = weather_hourly['precipType'].str.strip().str.title() # muutetaan kaikki kirjaimet isoiksi kirjaimiksi ja poistetaan ylimääräiset välilyönnit precipType sarakkeessa\n",
    "weather_hourly['icon'] = weather_hourly['icon'].str.strip().str.title() # muutetaan kaikki kirjaimet isoiksi kirjaimiksi ja poistetaan ylimääräiset välilyönnit icon sarakkeessa\n",
    "weather_hourly['summary'] = weather_hourly['summary'].str.strip().str.title() # muutetaan kaikki kirjaimet isoiksi kirjaimiksi ja poistetaan ylimääräiset välilyönnit summary sarakkeessa"
   ]
  },
  {
   "cell_type": "code",
   "execution_count": null,
   "metadata": {},
   "outputs": [
    {
     "name": "stdout",
     "output_type": "stream",
     "text": [
      "Outliers detected in temperature: 162\n"
     ]
    }
   ],
   "source": [
    "def detect_outliers(column):\n",
    "    q1 = weather_hourly[column].quantile(0.25)\n",
    "    q3 = weather_hourly[column].quantile(0.75)\n",
    "    iqr = q3 - q1\n",
    "    lower_bound = q1 - 1.5 * iqr\n",
    "    upper_bound = q3 + 1.5 * iqr\n",
    "    outliers = weather_hourly[(weather_hourly[column] < lower_bound) | (weather_hourly[column] > upper_bound)] # etsitään outlierit\n",
    "    print(f\"Outliers detected in {column}: {len(outliers)}\") \n",
    "    return lower_bound, upper_bound \n",
    "\n",
    "lower_temp, upper_temp = detect_outliers('temperature')\n"
   ]
  },
  {
   "cell_type": "code",
   "execution_count": null,
   "metadata": {},
   "outputs": [
    {
     "name": "stdout",
     "output_type": "stream",
     "text": [
      "Shape of dataset after removing outliers in temperature: (21003, 12)\n"
     ]
    }
   ],
   "source": [
    "weather_hourly = weather_hourly[(weather_hourly['temperature'] >= lower_temp) &  # poistetaan outlierit\n",
    "                                (weather_hourly['temperature'] <= upper_temp)]  \n",
    "\n",
    "print(\"Shape of dataset after removing outliers in temperature:\", weather_hourly.shape)"
   ]
  },
  {
   "cell_type": "code",
   "execution_count": null,
   "metadata": {},
   "outputs": [
    {
     "name": "stdout",
     "output_type": "stream",
     "text": [
      "   temperature  apparentTemperature  windChillEffect\n",
      "0       10.240               10.240            0.000\n",
      "1        9.760                8.240           -1.520\n",
      "2        9.460                7.760           -1.700\n",
      "3        9.230                7.440           -1.790\n",
      "4        9.260                7.240           -2.020\n"
     ]
    }
   ],
   "source": [
    "weather_hourly['windChillEffect'] = weather_hourly['apparentTemperature'] - weather_hourly['temperature'] # lasketaan tuulen viilentävä vaikutus \n",
    "print(weather_hourly[['temperature', 'apparentTemperature', 'windChillEffect']].head()) # tulostetaan lämpötila, tuntuu kuin lämpötila ja tuulen viilentävä vaikutus "
   ]
  },
  {
   "cell_type": "code",
   "execution_count": null,
   "metadata": {},
   "outputs": [],
   "source": [
    "weather_hourly.to_csv('data/processed/cleaned_weather_hourly.csv', index=False) # tallennetaan puhdistettu datasetti"
   ]
  },
  {
   "cell_type": "markdown",
   "metadata": {},
   "source": [
    "## **6.DAILY DATASET**"
   ]
  },
  {
   "cell_type": "code",
   "execution_count": null,
   "metadata": {},
   "outputs": [
    {
     "name": "stdout",
     "output_type": "stream",
     "text": [
      "<class 'pandas.core.frame.DataFrame'>\n",
      "RangeIndex: 3510433 entries, 0 to 3510432\n",
      "Data columns (total 9 columns):\n",
      " #   Column         Dtype  \n",
      "---  ------         -----  \n",
      " 0   LCLid          object \n",
      " 1   day            object \n",
      " 2   energy_median  float64\n",
      " 3   energy_mean    float64\n",
      " 4   energy_max     float64\n",
      " 5   energy_count   int64  \n",
      " 6   energy_std     float64\n",
      " 7   energy_sum     float64\n",
      " 8   energy_min     float64\n",
      "dtypes: float64(6), int64(1), object(2)\n",
      "memory usage: 241.0+ MB\n",
      "None\n",
      "       energy_median  energy_mean  energy_max  energy_count  energy_std  \\\n",
      "count    3510403.000  3510403.000 3510403.000   3510433.000 3499102.000   \n",
      "mean           0.159        0.212       0.835        47.804       0.173   \n",
      "std            0.170        0.191       0.668         2.811       0.153   \n",
      "min            0.000        0.000       0.000         0.000       0.000   \n",
      "25%            0.067        0.098       0.346        48.000       0.069   \n",
      "50%            0.115        0.163       0.688        48.000       0.133   \n",
      "75%            0.191        0.262       1.128        48.000       0.229   \n",
      "max            6.971        6.928      10.761        48.000       4.025   \n",
      "\n",
      "       energy_sum  energy_min  \n",
      "count 3510403.000 3510403.000  \n",
      "mean       10.124       0.060  \n",
      "std         9.129       0.087  \n",
      "min         0.000       0.000  \n",
      "25%         4.682       0.020  \n",
      "50%         7.815       0.039  \n",
      "75%        12.569       0.071  \n",
      "max       332.556       6.524  \n",
      "       LCLid         day  energy_median  energy_mean  energy_max  \\\n",
      "0  MAC000131  2011-12-15          0.485        0.432       0.868   \n",
      "1  MAC000131  2011-12-16          0.141        0.296       1.116   \n",
      "2  MAC000131  2011-12-17          0.102        0.190       0.685   \n",
      "3  MAC000131  2011-12-18          0.114        0.219       0.676   \n",
      "4  MAC000131  2011-12-19          0.191        0.326       0.788   \n",
      "\n",
      "   energy_count  energy_std  energy_sum  energy_min  \n",
      "0            22       0.239       9.505       0.072  \n",
      "1            48       0.281      14.216       0.031  \n",
      "2            48       0.188       9.111       0.064  \n",
      "3            48       0.203      10.511       0.065  \n",
      "4            48       0.259      15.647       0.066  \n"
     ]
    }
   ],
   "source": [
    "daily_dataset_path = \"data/raw/daily_dataset.csv\"\n",
    "daily_dataset = pd.read_csv(daily_dataset_path)\n",
    "\n",
    "print(daily_dataset.info())\n",
    "print(daily_dataset.describe())\n",
    "print(daily_dataset.head())"
   ]
  },
  {
   "cell_type": "code",
   "execution_count": null,
   "metadata": {},
   "outputs": [
    {
     "name": "stdout",
     "output_type": "stream",
     "text": [
      "LCLid                0\n",
      "day                  0\n",
      "energy_median       30\n",
      "energy_mean         30\n",
      "energy_max          30\n",
      "energy_count         0\n",
      "energy_std       11331\n",
      "energy_sum          30\n",
      "energy_min          30\n",
      "dtype: int64\n"
     ]
    }
   ],
   "source": [
    "print(daily_dataset.isnull().sum()) # tarkistetaan puuttuvat arvot"
   ]
  },
  {
   "cell_type": "code",
   "execution_count": null,
   "metadata": {},
   "outputs": [
    {
     "name": "stdout",
     "output_type": "stream",
     "text": [
      "LCLid            0\n",
      "day              0\n",
      "energy_median    0\n",
      "energy_mean      0\n",
      "energy_max       0\n",
      "energy_count     0\n",
      "energy_std       0\n",
      "energy_sum       0\n",
      "energy_min       0\n",
      "dtype: int64\n"
     ]
    }
   ],
   "source": [
    "columns_with_missing = ['energy_median', 'energy_mean', 'energy_max', 'energy_sum', 'energy_min', 'energy_std'] # valitaan sarakkeet, joissa on puuttuvia arvoja \n",
    "for col in columns_with_missing: # täytetään puuttuvat arvot mediaanilla koska sarakkeet ovat vinoja\n",
    "    daily_dataset[col] = daily_dataset[col].fillna(daily_dataset[col].median())\n",
    "\n",
    "print(daily_dataset.isnull().sum())"
   ]
  },
  {
   "cell_type": "code",
   "execution_count": null,
   "metadata": {},
   "outputs": [],
   "source": [
    "daily_dataset['day'] = pd.to_datetime(daily_dataset['day'])"
   ]
  },
  {
   "cell_type": "code",
   "execution_count": null,
   "metadata": {},
   "outputs": [
    {
     "name": "stdout",
     "output_type": "stream",
     "text": [
      "(3510433, 9)\n"
     ]
    }
   ],
   "source": [
    "daily_dataset = daily_dataset.drop_duplicates()\n",
    "print(daily_dataset.shape)"
   ]
  },
  {
   "cell_type": "code",
   "execution_count": null,
   "metadata": {},
   "outputs": [
    {
     "name": "stdout",
     "output_type": "stream",
     "text": [
      "Outliers detected in energy_sum: 201571\n"
     ]
    }
   ],
   "source": [
    "def detect_outliers(column):\n",
    "    q1 = daily_dataset[column].quantile(0.25)\n",
    "    q3 = daily_dataset[column].quantile(0.75)\n",
    "    iqr = q3 - q1\n",
    "    lower_bound = q1 - 1.5 * iqr\n",
    "    upper_bound = q3 + 1.5 * iqr\n",
    "    outliers = daily_dataset[(daily_dataset[column] < lower_bound) | (daily_dataset[column] > upper_bound)] # etsitään outlierit\n",
    "    print(f\"Outliers detected in {column}: {len(outliers)}\") \n",
    "    return lower_bound, upper_bound\n",
    "\n",
    "lower_sum, upper_sum = detect_outliers('energy_sum') # etsitään outlierit energy_sum sarakkeesta"
   ]
  },
  {
   "cell_type": "code",
   "execution_count": null,
   "metadata": {},
   "outputs": [
    {
     "name": "stdout",
     "output_type": "stream",
     "text": [
      "(3308862, 9)\n"
     ]
    }
   ],
   "source": [
    "daily_dataset = daily_dataset[(daily_dataset['energy_sum'] >= lower_sum) & (daily_dataset['energy_sum'] <= upper_sum)]\n",
    "print(daily_dataset.shape)"
   ]
  },
  {
   "cell_type": "code",
   "execution_count": null,
   "metadata": {},
   "outputs": [
    {
     "name": "stdout",
     "output_type": "stream",
     "text": [
      "   energy_max  energy_min  energy_range\n",
      "0       0.868       0.072         0.796\n",
      "1       1.116       0.031         1.085\n",
      "2       0.685       0.064         0.621\n",
      "3       0.676       0.065         0.611\n",
      "4       0.788       0.066         0.722\n"
     ]
    }
   ],
   "source": [
    "daily_dataset['energy_range'] = daily_dataset['energy_max'] - daily_dataset['energy_min'] # lasketaan energian vaihteluväli \n",
    "print(daily_dataset[['energy_max', 'energy_min', 'energy_range']].head()) # tulostetaan energian maksimi, minimi ja vaihteluväli"
   ]
  },
  {
   "cell_type": "code",
   "execution_count": null,
   "metadata": {},
   "outputs": [],
   "source": [
    "daily_data.to_csv('data/processed/cleaned_daily_dataset.csv', index=False) # tallennetaan puhdistettu datasetti "
   ]
  },
  {
   "cell_type": "code",
   "execution_count": null,
   "metadata": {},
   "outputs": [
    {
     "name": "stdout",
     "output_type": "stream",
     "text": [
      "Shape of concatenated daily dataset: (3510433, 9)\n"
     ]
    }
   ],
   "source": [
    "daily_data = pd.concat([pd.read_csv(file) for file in daily_files], ignore_index=True) # yhdistetään kaikki päivittäiset datasetit yhdeksi datasetiksi koska ne ovat samassa muodossa\n",
    "print(f\"Shape of concatenated daily dataset: {daily_data.shape}\") "
   ]
  },
  {
   "cell_type": "code",
   "execution_count": null,
   "metadata": {},
   "outputs": [
    {
     "name": "stdout",
     "output_type": "stream",
     "text": [
      "Shape of concatenated half-hourly dataset: (167817021, 3)\n"
     ]
    }
   ],
   "source": [
    "halfhourly_data = pd.concat([pd.read_csv(file) for file in halfhourly_files], ignore_index=True) # yhdistetään kaikki puolen tunnin datasetit yhdeksi datasetiksi koska ne ovat samassa muodossa\n",
    "print(f\"Shape of concatenated half-hourly dataset: {halfhourly_data.shape}\")"
   ]
  },
  {
   "cell_type": "code",
   "execution_count": null,
   "metadata": {},
   "outputs": [
    {
     "name": "stdout",
     "output_type": "stream",
     "text": [
      "Shape of concatenated hhblock dataset: (3469352, 50)\n"
     ]
    }
   ],
   "source": [
    "hhblock_data = pd.concat([pd.read_csv(file) for file in hhblock_files], ignore_index=True) # yhdistetään kaikki hhblock datasetit yhdeksi datasetiksi koska ne ovat samassa muodossa\n",
    "print(f\"Shape of concatenated hhblock dataset: {hhblock_data.shape}\")"
   ]
  },
  {
   "cell_type": "code",
   "execution_count": null,
   "metadata": {},
   "outputs": [],
   "source": [
    "daily_data.to_csv(\"data/raw/daily_data.csv\", index=False) # tallennetaan yhdistetty datasetti\n",
    "halfhourly_data.to_csv(\"data/raw/halfhourly_data.csv\", index=False) # tallennetaan yhdistetty datasetti\n",
    "hhblock_data.to_csv(\"data/raw/hhblock_data.csv\", index=False) # tallennetaan yhdistetty datasetti"
   ]
  },
  {
   "cell_type": "markdown",
   "metadata": {},
   "source": [
    "## **6.2 DAILY DATA**"
   ]
  },
  {
   "cell_type": "code",
   "execution_count": null,
   "metadata": {},
   "outputs": [
    {
     "name": "stdout",
     "output_type": "stream",
     "text": [
      "<class 'pandas.core.frame.DataFrame'>\n",
      "RangeIndex: 3510433 entries, 0 to 3510432\n",
      "Data columns (total 9 columns):\n",
      " #   Column         Dtype  \n",
      "---  ------         -----  \n",
      " 0   LCLid          object \n",
      " 1   day            object \n",
      " 2   energy_median  float64\n",
      " 3   energy_mean    float64\n",
      " 4   energy_max     float64\n",
      " 5   energy_count   int64  \n",
      " 6   energy_std     float64\n",
      " 7   energy_sum     float64\n",
      " 8   energy_min     float64\n",
      "dtypes: float64(6), int64(1), object(2)\n",
      "memory usage: 241.0+ MB\n",
      "None\n",
      "       energy_median  energy_mean  energy_max  energy_count  energy_std  \\\n",
      "count    3510403.000  3510403.000 3510403.000   3510433.000 3499102.000   \n",
      "mean           0.159        0.212       0.835        47.804       0.173   \n",
      "std            0.170        0.191       0.668         2.811       0.153   \n",
      "min            0.000        0.000       0.000         0.000       0.000   \n",
      "25%            0.067        0.098       0.346        48.000       0.069   \n",
      "50%            0.115        0.163       0.688        48.000       0.133   \n",
      "75%            0.191        0.262       1.128        48.000       0.229   \n",
      "max            6.971        6.928      10.761        48.000       4.025   \n",
      "\n",
      "       energy_sum  energy_min  \n",
      "count 3510403.000 3510403.000  \n",
      "mean       10.124       0.060  \n",
      "std         9.129       0.087  \n",
      "min         0.000       0.000  \n",
      "25%         4.682       0.020  \n",
      "50%         7.815       0.039  \n",
      "75%        12.569       0.071  \n",
      "max       332.556       6.524  \n",
      "       LCLid         day  energy_median  energy_mean  energy_max  \\\n",
      "0  MAC000027  2011-12-07          0.147        0.160       0.408   \n",
      "1  MAC000027  2011-12-08          0.170        0.193       0.459   \n",
      "2  MAC000027  2011-12-09          0.144        0.157       0.365   \n",
      "3  MAC000027  2011-12-10          0.241        0.264       0.814   \n",
      "4  MAC000027  2011-12-11          0.278        0.288       0.540   \n",
      "\n",
      "   energy_count  energy_std  energy_sum  energy_min  \n",
      "0            25       0.062       3.997       0.103  \n",
      "1            48       0.077       9.287       0.105  \n",
      "2            48       0.052       7.525       0.101  \n",
      "3            48       0.135      12.684       0.101  \n",
      "4            48       0.113      13.845       0.126  \n"
     ]
    }
   ],
   "source": [
    "daily_data_path = \"data/raw/daily_data.csv\"\n",
    "daily_data = pd.read_csv(daily_data_path)\n",
    "\n",
    "print(daily_data.info())\n",
    "print(daily_data.describe())\n",
    "print(daily_data.head())"
   ]
  },
  {
   "cell_type": "code",
   "execution_count": null,
   "metadata": {},
   "outputs": [
    {
     "name": "stdout",
     "output_type": "stream",
     "text": [
      "LCLid                0\n",
      "day                  0\n",
      "energy_median       30\n",
      "energy_mean         30\n",
      "energy_max          30\n",
      "energy_count         0\n",
      "energy_std       11331\n",
      "energy_sum          30\n",
      "energy_min          30\n",
      "dtype: int64\n"
     ]
    }
   ],
   "source": [
    "print(daily_data.isnull().sum()) # tarkistetaan puuttuvat arvot"
   ]
  },
  {
   "cell_type": "code",
   "execution_count": null,
   "metadata": {},
   "outputs": [
    {
     "name": "stdout",
     "output_type": "stream",
     "text": [
      "LCLid            0\n",
      "day              0\n",
      "energy_median    0\n",
      "energy_mean      0\n",
      "energy_max       0\n",
      "energy_count     0\n",
      "energy_std       0\n",
      "energy_sum       0\n",
      "energy_min       0\n",
      "dtype: int64\n"
     ]
    }
   ],
   "source": [
    "columns_with_missing = ['energy_median', 'energy_mean', 'energy_max', 'energy_sum', 'energy_min', 'energy_std']\n",
    "for col in columns_with_missing: # täytetään puuttuvat arvot mediaanilla koska sarakkeet ovat vinoja \n",
    "    daily_data[col] = daily_data[col].fillna(daily_data[col].median())\n",
    "print(daily_data.isnull().sum())"
   ]
  },
  {
   "cell_type": "code",
   "execution_count": null,
   "metadata": {},
   "outputs": [],
   "source": [
    "daily_data['day'] = pd.to_datetime(daily_data['day']) # muutetaan day sarakkeen arvot päivämäärämuotoon"
   ]
  },
  {
   "cell_type": "code",
   "execution_count": null,
   "metadata": {},
   "outputs": [
    {
     "data": {
      "text/plain": [
       "np.int64(0)"
      ]
     },
     "execution_count": 187,
     "metadata": {},
     "output_type": "execute_result"
    },
    {
     "data": {
      "text/plain": [
       "(3510433, 9)"
      ]
     },
     "execution_count": 187,
     "metadata": {},
     "output_type": "execute_result"
    }
   ],
   "source": [
    "daily_data.duplicated().sum() # tarkistetaan duplikaatit\n",
    "daily_data.shape # tulostetaan datasetin muoto "
   ]
  },
  {
   "cell_type": "code",
   "execution_count": null,
   "metadata": {},
   "outputs": [
    {
     "name": "stdout",
     "output_type": "stream",
     "text": [
      "Outliers detected in energy_sum: 201571\n",
      "(np.float64(-7.1485), np.float64(24.399500000000003))\n"
     ]
    }
   ],
   "source": [
    "def detect_outliers(column): # funktio, joka etsii outlierit\n",
    "    q1 = daily_data[column].quantile(0.25)\n",
    "    q3 = daily_data[column].quantile(0.75)\n",
    "    iqr = q3 - q1\n",
    "    lower_bound = q1 - 1.5 * iqr\n",
    "    upper_bound = q3 + 1.5 * iqr\n",
    "    outliers = daily_data[(daily_data[column] < lower_bound) | (daily_data[column] > upper_bound)]\n",
    "    print(f\"Outliers detected in {column}: {len(outliers)}\")\n",
    "    return lower_bound, upper_bound\n",
    "outliers = detect_outliers('energy_sum') # etsitään outlierit energy_sum sarakkeesta\n",
    "print(outliers)"
   ]
  },
  {
   "cell_type": "code",
   "execution_count": null,
   "metadata": {},
   "outputs": [
    {
     "data": {
      "text/html": [
       "<div>\n",
       "<style scoped>\n",
       "    .dataframe tbody tr th:only-of-type {\n",
       "        vertical-align: middle;\n",
       "    }\n",
       "\n",
       "    .dataframe tbody tr th {\n",
       "        vertical-align: top;\n",
       "    }\n",
       "\n",
       "    .dataframe thead th {\n",
       "        text-align: right;\n",
       "    }\n",
       "</style>\n",
       "<table border=\"1\" class=\"dataframe\">\n",
       "  <thead>\n",
       "    <tr style=\"text-align: right;\">\n",
       "      <th></th>\n",
       "      <th>LCLid</th>\n",
       "      <th>day</th>\n",
       "      <th>energy_median</th>\n",
       "      <th>energy_mean</th>\n",
       "      <th>energy_max</th>\n",
       "      <th>energy_count</th>\n",
       "      <th>energy_std</th>\n",
       "      <th>energy_sum</th>\n",
       "      <th>energy_min</th>\n",
       "    </tr>\n",
       "  </thead>\n",
       "  <tbody>\n",
       "    <tr>\n",
       "      <th>0</th>\n",
       "      <td>MAC000027</td>\n",
       "      <td>2011-12-07</td>\n",
       "      <td>0.147</td>\n",
       "      <td>0.160</td>\n",
       "      <td>0.408</td>\n",
       "      <td>25</td>\n",
       "      <td>0.062</td>\n",
       "      <td>3.997</td>\n",
       "      <td>0.103</td>\n",
       "    </tr>\n",
       "    <tr>\n",
       "      <th>1</th>\n",
       "      <td>MAC000027</td>\n",
       "      <td>2011-12-08</td>\n",
       "      <td>0.170</td>\n",
       "      <td>0.193</td>\n",
       "      <td>0.459</td>\n",
       "      <td>48</td>\n",
       "      <td>0.077</td>\n",
       "      <td>9.287</td>\n",
       "      <td>0.105</td>\n",
       "    </tr>\n",
       "    <tr>\n",
       "      <th>2</th>\n",
       "      <td>MAC000027</td>\n",
       "      <td>2011-12-09</td>\n",
       "      <td>0.144</td>\n",
       "      <td>0.157</td>\n",
       "      <td>0.365</td>\n",
       "      <td>48</td>\n",
       "      <td>0.052</td>\n",
       "      <td>7.525</td>\n",
       "      <td>0.101</td>\n",
       "    </tr>\n",
       "    <tr>\n",
       "      <th>3</th>\n",
       "      <td>MAC000027</td>\n",
       "      <td>2011-12-10</td>\n",
       "      <td>0.241</td>\n",
       "      <td>0.264</td>\n",
       "      <td>0.814</td>\n",
       "      <td>48</td>\n",
       "      <td>0.135</td>\n",
       "      <td>12.684</td>\n",
       "      <td>0.101</td>\n",
       "    </tr>\n",
       "    <tr>\n",
       "      <th>4</th>\n",
       "      <td>MAC000027</td>\n",
       "      <td>2011-12-11</td>\n",
       "      <td>0.278</td>\n",
       "      <td>0.288</td>\n",
       "      <td>0.540</td>\n",
       "      <td>48</td>\n",
       "      <td>0.113</td>\n",
       "      <td>13.845</td>\n",
       "      <td>0.126</td>\n",
       "    </tr>\n",
       "    <tr>\n",
       "      <th>...</th>\n",
       "      <td>...</td>\n",
       "      <td>...</td>\n",
       "      <td>...</td>\n",
       "      <td>...</td>\n",
       "      <td>...</td>\n",
       "      <td>...</td>\n",
       "      <td>...</td>\n",
       "      <td>...</td>\n",
       "      <td>...</td>\n",
       "    </tr>\n",
       "    <tr>\n",
       "      <th>3510428</th>\n",
       "      <td>MAC004883</td>\n",
       "      <td>2013-05-11</td>\n",
       "      <td>0.048</td>\n",
       "      <td>0.065</td>\n",
       "      <td>0.155</td>\n",
       "      <td>48</td>\n",
       "      <td>0.033</td>\n",
       "      <td>3.123</td>\n",
       "      <td>0.007</td>\n",
       "    </tr>\n",
       "    <tr>\n",
       "      <th>3510429</th>\n",
       "      <td>MAC004883</td>\n",
       "      <td>2013-05-12</td>\n",
       "      <td>0.053</td>\n",
       "      <td>0.089</td>\n",
       "      <td>0.805</td>\n",
       "      <td>48</td>\n",
       "      <td>0.125</td>\n",
       "      <td>4.279</td>\n",
       "      <td>0.041</td>\n",
       "    </tr>\n",
       "    <tr>\n",
       "      <th>3510430</th>\n",
       "      <td>MAC004883</td>\n",
       "      <td>2013-05-13</td>\n",
       "      <td>0.046</td>\n",
       "      <td>0.053</td>\n",
       "      <td>0.120</td>\n",
       "      <td>48</td>\n",
       "      <td>0.023</td>\n",
       "      <td>2.530</td>\n",
       "      <td>0.006</td>\n",
       "    </tr>\n",
       "    <tr>\n",
       "      <th>3510431</th>\n",
       "      <td>MAC004883</td>\n",
       "      <td>2013-05-14</td>\n",
       "      <td>0.049</td>\n",
       "      <td>0.062</td>\n",
       "      <td>0.112</td>\n",
       "      <td>48</td>\n",
       "      <td>0.025</td>\n",
       "      <td>2.968</td>\n",
       "      <td>0.041</td>\n",
       "    </tr>\n",
       "    <tr>\n",
       "      <th>3510432</th>\n",
       "      <td>MAC004883</td>\n",
       "      <td>2013-05-15</td>\n",
       "      <td>0.054</td>\n",
       "      <td>0.065</td>\n",
       "      <td>0.189</td>\n",
       "      <td>48</td>\n",
       "      <td>0.030</td>\n",
       "      <td>3.122</td>\n",
       "      <td>0.042</td>\n",
       "    </tr>\n",
       "  </tbody>\n",
       "</table>\n",
       "<p>3308862 rows × 9 columns</p>\n",
       "</div>"
      ],
      "text/plain": [
       "             LCLid        day  energy_median  energy_mean  energy_max  \\\n",
       "0        MAC000027 2011-12-07          0.147        0.160       0.408   \n",
       "1        MAC000027 2011-12-08          0.170        0.193       0.459   \n",
       "2        MAC000027 2011-12-09          0.144        0.157       0.365   \n",
       "3        MAC000027 2011-12-10          0.241        0.264       0.814   \n",
       "4        MAC000027 2011-12-11          0.278        0.288       0.540   \n",
       "...            ...        ...            ...          ...         ...   \n",
       "3510428  MAC004883 2013-05-11          0.048        0.065       0.155   \n",
       "3510429  MAC004883 2013-05-12          0.053        0.089       0.805   \n",
       "3510430  MAC004883 2013-05-13          0.046        0.053       0.120   \n",
       "3510431  MAC004883 2013-05-14          0.049        0.062       0.112   \n",
       "3510432  MAC004883 2013-05-15          0.054        0.065       0.189   \n",
       "\n",
       "         energy_count  energy_std  energy_sum  energy_min  \n",
       "0                  25       0.062       3.997       0.103  \n",
       "1                  48       0.077       9.287       0.105  \n",
       "2                  48       0.052       7.525       0.101  \n",
       "3                  48       0.135      12.684       0.101  \n",
       "4                  48       0.113      13.845       0.126  \n",
       "...               ...         ...         ...         ...  \n",
       "3510428            48       0.033       3.123       0.007  \n",
       "3510429            48       0.125       4.279       0.041  \n",
       "3510430            48       0.023       2.530       0.006  \n",
       "3510431            48       0.025       2.968       0.041  \n",
       "3510432            48       0.030       3.122       0.042  \n",
       "\n",
       "[3308862 rows x 9 columns]"
      ]
     },
     "execution_count": 191,
     "metadata": {},
     "output_type": "execute_result"
    },
    {
     "name": "stdout",
     "output_type": "stream",
     "text": [
      "(3510433, 9)\n"
     ]
    }
   ],
   "source": [
    "daily_data[(daily_data['energy_sum'] >= lower_sum) & (daily_data['energy_sum'] <= upper_sum)] # poistetaan outlierit\n",
    "print(daily_data.shape)"
   ]
  },
  {
   "cell_type": "code",
   "execution_count": null,
   "metadata": {},
   "outputs": [
    {
     "name": "stdout",
     "output_type": "stream",
     "text": [
      "   energy_max  energy_min  energy_range\n",
      "0       0.408       0.103         0.305\n",
      "1       0.459       0.105         0.354\n",
      "2       0.365       0.101         0.264\n",
      "3       0.814       0.101         0.713\n",
      "4       0.540       0.126         0.414\n"
     ]
    }
   ],
   "source": [
    "daily_data['energy_range'] = daily_data['energy_max'] - daily_data['energy_min'] # lasketaan energian vaihteluväli\n",
    "print(daily_data[['energy_max', 'energy_min', 'energy_range']].head())"
   ]
  },
  {
   "cell_type": "code",
   "execution_count": null,
   "metadata": {},
   "outputs": [],
   "source": [
    "daily_data.to_csv('data/processed/cleaned_daily_data.csv', index=False) # tallennetaan puhdistettu datasetti"
   ]
  },
  {
   "cell_type": "markdown",
   "metadata": {},
   "source": [
    "## **7. HALFHOURLY DATA**"
   ]
  },
  {
   "cell_type": "code",
   "execution_count": null,
   "metadata": {},
   "outputs": [
    {
     "ename": "NameError",
     "evalue": "name 'pd' is not defined",
     "output_type": "error",
     "traceback": [
      "\u001b[0;31m---------------------------------------------------------------------------\u001b[0m",
      "\u001b[0;31mNameError\u001b[0m                                 Traceback (most recent call last)",
      "Cell \u001b[0;32mIn[1], line 2\u001b[0m\n\u001b[1;32m      1\u001b[0m halfhourly_data_path \u001b[38;5;241m=\u001b[39m \u001b[38;5;124m\"\u001b[39m\u001b[38;5;124mdata/raw/halfhourly_data.csv\u001b[39m\u001b[38;5;124m\"\u001b[39m\n\u001b[0;32m----> 2\u001b[0m halfhourly_data \u001b[38;5;241m=\u001b[39m \u001b[43mpd\u001b[49m\u001b[38;5;241m.\u001b[39mread_csv(halfhourly_data_path)\n\u001b[1;32m      4\u001b[0m \u001b[38;5;28mprint\u001b[39m(halfhourly_data\u001b[38;5;241m.\u001b[39minfo())\n\u001b[1;32m      5\u001b[0m \u001b[38;5;28mprint\u001b[39m(halfhourly_data\u001b[38;5;241m.\u001b[39mdescribe())\n",
      "\u001b[0;31mNameError\u001b[0m: name 'pd' is not defined"
     ]
    }
   ],
   "source": [
    "halfhourly_data_path = \"data/raw/halfhourly_data.csv\"\n",
    "halfhourly_data = pd.read_csv(halfhourly_data_path)\n",
    "\n",
    "print(halfhourly_data.info())\n",
    "print(halfhourly_data.describe())\n",
    "print(halfhourly_data.head())"
   ]
  },
  {
   "cell_type": "code",
   "execution_count": null,
   "metadata": {},
   "outputs": [
    {
     "name": "stdout",
     "output_type": "stream",
     "text": [
      "LCLid             0\n",
      "tstp              0\n",
      "energy(kWh/hh)    0\n",
      "dtype: int64\n",
      "0\n"
     ]
    }
   ],
   "source": [
    "print(halfhourly_data.isnull().sum()) # tarkistetaan puuttuvat arvot\n",
    "print(halfhourly_data.duplicated().sum()) # tarkistetaan duplikaatit"
   ]
  },
  {
   "cell_type": "code",
   "execution_count": null,
   "metadata": {},
   "outputs": [
    {
     "name": "stdout",
     "output_type": "stream",
     "text": [
      "[' 0.185 ' ' 0.155 ' ' 0.147 ' ' 0.164 ' ' 0.187 ' ' 0.118 ' ' 0.114 '\n",
      " ' 0.135 ' ' 0.138 ' ' 0.107 ']\n"
     ]
    }
   ],
   "source": [
    "print(halfhourly_data['energy(kWh/hh)'].unique()[:10]) # tulostetaan ainutlaatuiset arvot energy(kWh/hh) sarakkeesta"
   ]
  },
  {
   "cell_type": "code",
   "execution_count": null,
   "metadata": {},
   "outputs": [],
   "source": [
    "halfhourly_data['energy(kWh/hh)'] = halfhourly_data['energy(kWh/hh)'].str.strip() # poistetaan ylimääräiset välilyönnit energy(kWh/hh) sarakkeesta\n",
    "halfhourly_data['energy(kWh/hh)'] = pd.to_numeric(halfhourly_data['energy(kWh/hh)'], errors='coerce') # muutetaan energy(kWh/hh) sarakkeen arvot numeerisiksi"
   ]
  },
  {
   "cell_type": "code",
   "execution_count": null,
   "metadata": {},
   "outputs": [],
   "source": [
    "halfhourly_data['energy(kWh/hh)'] = halfhourly_data['energy(kWh/hh)'].fillna(halfhourly_data['energy(kWh/hh)'].median())\n",
    "# täytetään puuttuvat arvot mediaanilla koska sarakkeet ovat vinoja "
   ]
  },
  {
   "cell_type": "code",
   "execution_count": null,
   "metadata": {},
   "outputs": [],
   "source": [
    "halfhourly_data['tstp'] = pd.to_datetime(halfhourly_data['tstp'], errors='coerce') \n",
    "# muutetaan tstp sarakkeen arvot päivämäärämuotoon"
   ]
  },
  {
   "cell_type": "code",
   "execution_count": null,
   "metadata": {},
   "outputs": [],
   "source": [
    "halfhourly_data = halfhourly_data.drop_duplicates() # poistetaan duplikaatit"
   ]
  },
  {
   "cell_type": "code",
   "execution_count": null,
   "metadata": {},
   "outputs": [
    {
     "name": "stdout",
     "output_type": "stream",
     "text": [
      "Outliers detected in energy(kWh/hh): 15416021\n",
      "(np.float64(-0.21349999999999997), np.float64(0.5105))\n"
     ]
    }
   ],
   "source": [
    "def detect_outliers(column): # funktio, joka etsii outlierit\n",
    "    q1 = halfhourly_data[column].quantile(0.25)\n",
    "    q3 = halfhourly_data[column].quantile(0.75)\n",
    "    iqr = q3 - q1\n",
    "    lower_bound = q1 - 1.5 * iqr\n",
    "    upper_bound = q3 + 1.5 * iqr\n",
    "    outliers = halfhourly_data[(halfhourly_data[column] < lower_bound) | (halfhourly_data[column] > upper_bound)]\n",
    "    print(f\"Outliers detected in {column}: {len(outliers)}\")\n",
    "    return lower_bound, upper_bound\n",
    "outliers = detect_outliers('energy(kWh/hh)') # etsitään outlierit energy(kWh/hh) sarakkeesta\n",
    "print(outliers) "
   ]
  },
  {
   "cell_type": "code",
   "execution_count": null,
   "metadata": {},
   "outputs": [
    {
     "name": "stdout",
     "output_type": "stream",
     "text": [
      "(167817021, 3)\n"
     ]
    }
   ],
   "source": [
    "halfhourly_data = halfhourly_data[(halfhourly_data['energy(kWh/hh)'] >= lower_sum) & (halfhourly_data['energy(kWh/hh)'] <= upper_sum)] # poistetaan outlierit\n",
    "print(halfhourly_data.shape) "
   ]
  },
  {
   "cell_type": "code",
   "execution_count": null,
   "metadata": {},
   "outputs": [],
   "source": [
    "halfhourly_data.to_csv('data/processed/cleaned_halfhourly_data.csv', index=False) # tallennetaan puhdistettu datasetti"
   ]
  },
  {
   "cell_type": "markdown",
   "metadata": {},
   "source": [
    "## **8.1 HHBLOCK DATA**"
   ]
  },
  {
   "cell_type": "code",
   "execution_count": null,
   "metadata": {},
   "outputs": [
    {
     "name": "stdout",
     "output_type": "stream",
     "text": [
      "<class 'pandas.core.frame.DataFrame'>\n",
      "RangeIndex: 3469352 entries, 0 to 3469351\n",
      "Data columns (total 50 columns):\n",
      " #   Column  Dtype  \n",
      "---  ------  -----  \n",
      " 0   LCLid   object \n",
      " 1   day     object \n",
      " 2   hh_0    float64\n",
      " 3   hh_1    float64\n",
      " 4   hh_2    float64\n",
      " 5   hh_3    float64\n",
      " 6   hh_4    float64\n",
      " 7   hh_5    float64\n",
      " 8   hh_6    float64\n",
      " 9   hh_7    float64\n",
      " 10  hh_8    float64\n",
      " 11  hh_9    float64\n",
      " 12  hh_10   float64\n",
      " 13  hh_11   float64\n",
      " 14  hh_12   float64\n",
      " 15  hh_13   float64\n",
      " 16  hh_14   float64\n",
      " 17  hh_15   float64\n",
      " 18  hh_16   float64\n",
      " 19  hh_17   float64\n",
      " 20  hh_18   float64\n",
      " 21  hh_19   float64\n",
      " 22  hh_20   float64\n",
      " 23  hh_21   float64\n",
      " 24  hh_22   float64\n",
      " 25  hh_23   float64\n",
      " 26  hh_24   float64\n",
      " 27  hh_25   float64\n",
      " 28  hh_26   float64\n",
      " 29  hh_27   float64\n",
      " 30  hh_28   float64\n",
      " 31  hh_29   float64\n",
      " 32  hh_30   float64\n",
      " 33  hh_31   float64\n",
      " 34  hh_32   float64\n",
      " 35  hh_33   float64\n",
      " 36  hh_34   float64\n",
      " 37  hh_35   float64\n",
      " 38  hh_36   float64\n",
      " 39  hh_37   float64\n",
      " 40  hh_38   float64\n",
      " 41  hh_39   float64\n",
      " 42  hh_40   float64\n",
      " 43  hh_41   float64\n",
      " 44  hh_42   float64\n",
      " 45  hh_43   float64\n",
      " 46  hh_44   float64\n",
      " 47  hh_45   float64\n",
      " 48  hh_46   float64\n",
      " 49  hh_47   float64\n",
      "dtypes: float64(48), object(2)\n",
      "memory usage: 1.3+ GB\n",
      "None\n",
      "             hh_0        hh_1        hh_2        hh_3        hh_4        hh_5  \\\n",
      "count 3469352.000 3469352.000 3469352.000 3469352.000 3469352.000 3469352.000   \n",
      "mean        0.179       0.169       0.152       0.138       0.128       0.122   \n",
      "std         0.309       0.329       0.298       0.266       0.237       0.220   \n",
      "min         0.000       0.000       0.000       0.000       0.000       0.000   \n",
      "25%         0.052       0.048       0.046       0.044       0.042       0.042   \n",
      "50%         0.098       0.088       0.081       0.077       0.074       0.072   \n",
      "75%         0.191       0.168       0.150       0.138       0.130       0.125   \n",
      "max         7.272       8.717       8.025       8.750       8.414       8.591   \n",
      "\n",
      "             hh_6        hh_7        hh_8        hh_9       hh_10       hh_11  \\\n",
      "count 3469352.000 3469352.000 3469352.000 3469352.000 3469352.000 3469352.000   \n",
      "mean        0.117       0.114       0.113       0.116       0.120       0.131   \n",
      "std         0.208       0.197       0.190       0.192       0.194       0.208   \n",
      "min         0.000       0.000       0.000       0.000       0.000       0.000   \n",
      "25%         0.041       0.041       0.040       0.041       0.041       0.043   \n",
      "50%         0.071       0.070       0.070       0.071       0.072       0.077   \n",
      "75%         0.122       0.120       0.119       0.122       0.127       0.139   \n",
      "max         7.357       7.676       7.581       7.568       7.273       7.608   \n",
      "\n",
      "            hh_12       hh_13       hh_14       hh_15       hh_16       hh_17  \\\n",
      "count 3469352.000 3469352.000 3469352.000 3469352.000 3469352.000 3469352.000   \n",
      "mean        0.147       0.168       0.185       0.201       0.211       0.216   \n",
      "std         0.225       0.247       0.263       0.276       0.288       0.295   \n",
      "min         0.000       0.000       0.000       0.000       0.000       0.000   \n",
      "25%         0.046       0.050       0.055       0.059       0.061       0.062   \n",
      "50%         0.084       0.095       0.106       0.115       0.121       0.124   \n",
      "75%         0.157       0.183       0.207       0.228       0.240       0.246   \n",
      "max         8.892       8.812       9.166       8.782       9.710       9.650   \n",
      "\n",
      "            hh_18       hh_19       hh_20       hh_21       hh_22       hh_23  \\\n",
      "count 3469352.000 3469350.000 3469352.000 3469352.000 3469352.000 3469352.000   \n",
      "mean        0.216       0.216       0.214       0.214       0.214       0.215   \n",
      "std         0.296       0.296       0.297       0.297       0.298       0.298   \n",
      "min         0.000       0.000       0.000       0.000       0.000       0.000   \n",
      "25%         0.061       0.060       0.059       0.058       0.058       0.058   \n",
      "50%         0.122       0.121       0.119       0.117       0.116       0.117   \n",
      "75%         0.244       0.242       0.239       0.238       0.237       0.239   \n",
      "max         9.106       9.112       8.848       8.136       9.568       7.731   \n",
      "\n",
      "            hh_24       hh_25       hh_26       hh_27       hh_28       hh_29  \\\n",
      "count 3469352.000 3469331.000 3469350.000 3469352.000 3469352.000 3469352.000   \n",
      "mean        0.216       0.217       0.215       0.213       0.211       0.210   \n",
      "std         0.298       0.299       0.296       0.292       0.290       0.287   \n",
      "min         0.000       0.000       0.000       0.000       0.000       0.000   \n",
      "25%         0.058       0.059       0.059       0.059       0.059       0.060   \n",
      "50%         0.118       0.120       0.119       0.118       0.118       0.119   \n",
      "75%         0.240       0.242       0.239       0.237       0.234       0.234   \n",
      "max         9.294       8.171       7.556       8.875       8.797       8.659   \n",
      "\n",
      "            hh_30       hh_31       hh_32       hh_33       hh_34       hh_35  \\\n",
      "count 3463892.000 3469352.000 3469352.000 3469352.000 3469352.000 3469352.000   \n",
      "mean        0.212       0.220       0.232       0.251       0.270       0.292   \n",
      "std         0.286       0.292       0.302       0.319       0.335       0.352   \n",
      "min         0.000       0.000       0.000       0.000       0.000       0.000   \n",
      "25%         0.061       0.063       0.067       0.072       0.078       0.085   \n",
      "50%         0.121       0.127       0.135       0.147       0.160       0.174   \n",
      "75%         0.238       0.248       0.265       0.291       0.319       0.350   \n",
      "max         8.425       8.105       9.944      10.528      10.761       8.631   \n",
      "\n",
      "            hh_36       hh_37       hh_38       hh_39       hh_40       hh_41  \\\n",
      "count 3469351.000 3469352.000 3469352.000 3469352.000 3469352.000 3469352.000   \n",
      "mean        0.306       0.318       0.321       0.321       0.316       0.310   \n",
      "std         0.362       0.369       0.368       0.363       0.352       0.342   \n",
      "min         0.000       0.000       0.000       0.000       0.000       0.000   \n",
      "25%         0.091       0.097       0.101       0.105       0.108       0.109   \n",
      "50%         0.186       0.195       0.201       0.205       0.207       0.207   \n",
      "75%         0.371       0.388       0.390       0.389       0.382       0.375   \n",
      "max         8.702       9.679       8.833       9.141       8.998       9.189   \n",
      "\n",
      "            hh_42       hh_43       hh_44       hh_45       hh_46       hh_47  \n",
      "count 3469352.000 3469352.000 3469352.000 3469352.000 3469352.000 3469352.000  \n",
      "mean        0.300       0.288       0.266       0.242       0.214       0.187  \n",
      "std         0.330       0.319       0.303       0.285       0.265       0.242  \n",
      "min         0.000       0.000       0.000       0.000       0.000       0.000  \n",
      "25%         0.108       0.103       0.092       0.079       0.067       0.058  \n",
      "50%         0.203       0.195       0.178       0.158       0.134       0.113  \n",
      "75%         0.363       0.349       0.323       0.294       0.258       0.221  \n",
      "max         8.539       9.257       7.819       8.051       7.769       8.411  \n",
      "       LCLid         day  hh_0  hh_1  hh_2  hh_3  hh_4  hh_5  hh_6  hh_7  \\\n",
      "0  MAC000027  2011-12-08 0.221 0.175 0.222 0.159 0.141 0.130 0.136 0.110   \n",
      "1  MAC000027  2011-12-09 0.151 0.189 0.143 0.155 0.180 0.185 0.158 0.134   \n",
      "2  MAC000027  2011-12-10 0.152 0.176 0.198 0.164 0.126 0.134 0.109 0.146   \n",
      "3  MAC000027  2011-12-11 0.252 0.232 0.259 0.274 0.254 0.183 0.155 0.133   \n",
      "4  MAC000027  2011-12-12 0.277 0.291 0.256 0.213 0.183 0.134 0.122 0.147   \n",
      "\n",
      "   hh_8  hh_9  hh_10  hh_11  hh_12  hh_13  hh_14  hh_15  hh_16  hh_17  hh_18  \\\n",
      "0 0.122 0.164  0.113  0.105  0.128  0.296  0.208  0.421  0.281  0.459  0.193   \n",
      "1 0.126 0.111  0.139  0.149  0.108  0.274  0.365  0.288  0.253  0.162  0.139   \n",
      "2 0.133 0.107  0.105  0.146  0.142  0.101  0.252  0.376  0.250  0.217  0.243   \n",
      "3 0.126 0.186  0.146  0.126  0.148  0.142  0.160  0.143  0.340  0.266  0.283   \n",
      "4 0.171 0.146  0.135  0.149  0.128  0.259  0.266  0.443  0.267  0.343  0.184   \n",
      "\n",
      "   hh_19  hh_20  hh_21  hh_22  hh_23  hh_24  hh_25  hh_26  hh_27  hh_28  \\\n",
      "0  0.145  0.166  0.159  0.160  0.158  0.153  0.152  0.184  0.190  0.149   \n",
      "1  0.138  0.124  0.127  0.134  0.125  0.165  0.156  0.145  0.125  0.164   \n",
      "2  0.178  0.178  0.243  0.186  0.211  0.331  0.183  0.814  0.563  0.281   \n",
      "3  0.304  0.194  0.179  0.225  0.375  0.526  0.302  0.372  0.518  0.471   \n",
      "4  0.195  0.184  0.139  0.129  0.148  0.352  0.323  0.226  0.271  0.196   \n",
      "\n",
      "   hh_29  hh_30  hh_31  hh_32  hh_33  hh_34  hh_35  hh_36  hh_37  hh_38  \\\n",
      "0  0.129  0.137  0.189  0.220  0.121  0.126  0.125  0.124  0.223  0.268   \n",
      "1  0.161  0.101  0.102  0.138  0.148  0.101  0.124  0.124  0.128  0.125   \n",
      "2  0.343  0.356  0.324  0.317  0.348  0.380  0.468  0.406  0.414  0.402   \n",
      "3  0.408  0.540  0.335  0.371  0.361  0.419  0.322  0.500  0.368  0.356   \n",
      "4  0.220  0.186  0.130  0.120  0.133  0.182  0.366  0.193  0.219  0.286   \n",
      "\n",
      "   hh_39  hh_40  hh_41  hh_42  hh_43  hh_44  hh_45  hh_46  hh_47  \n",
      "0  0.184  0.187  0.254  0.307  0.265  0.243  0.341  0.225  0.219  \n",
      "1  0.129  0.107  0.256  0.141  0.163  0.150  0.169  0.199  0.147  \n",
      "2  0.345  0.409  0.206  0.213  0.257  0.292  0.222  0.240  0.297  \n",
      "3  0.319  0.283  0.263  0.410  0.235  0.226  0.271  0.299  0.285  \n",
      "4  0.291  0.276  0.233  0.223  0.311  0.197  0.190  0.221  0.247  \n"
     ]
    }
   ],
   "source": [
    "hhblock_data_path = \"data/raw/hhblock_data.csv\"\n",
    "hhblock_data = pd.read_csv(hhblock_data_path)\n",
    "\n",
    "print(hhblock_data.info())\n",
    "print(hhblock_data.describe())\n",
    "print(hhblock_data.head())"
   ]
  },
  {
   "cell_type": "code",
   "execution_count": null,
   "metadata": {},
   "outputs": [
    {
     "name": "stdout",
     "output_type": "stream",
     "text": [
      "LCLid       0\n",
      "day         0\n",
      "hh_0        0\n",
      "hh_1        0\n",
      "hh_2        0\n",
      "hh_3        0\n",
      "hh_4        0\n",
      "hh_5        0\n",
      "hh_6        0\n",
      "hh_7        0\n",
      "hh_8        0\n",
      "hh_9        0\n",
      "hh_10       0\n",
      "hh_11       0\n",
      "hh_12       0\n",
      "hh_13       0\n",
      "hh_14       0\n",
      "hh_15       0\n",
      "hh_16       0\n",
      "hh_17       0\n",
      "hh_18       0\n",
      "hh_19       2\n",
      "hh_20       0\n",
      "hh_21       0\n",
      "hh_22       0\n",
      "hh_23       0\n",
      "hh_24       0\n",
      "hh_25      21\n",
      "hh_26       2\n",
      "hh_27       0\n",
      "hh_28       0\n",
      "hh_29       0\n",
      "hh_30    5460\n",
      "hh_31       0\n",
      "hh_32       0\n",
      "hh_33       0\n",
      "hh_34       0\n",
      "hh_35       0\n",
      "hh_36       1\n",
      "hh_37       0\n",
      "hh_38       0\n",
      "hh_39       0\n",
      "hh_40       0\n",
      "hh_41       0\n",
      "hh_42       0\n",
      "hh_43       0\n",
      "hh_44       0\n",
      "hh_45       0\n",
      "hh_46       0\n",
      "hh_47       0\n",
      "dtype: int64\n"
     ]
    }
   ],
   "source": [
    "print(hhblock_data.isnull().sum()) # tarkistetaan puuttuvat arvot"
   ]
  },
  {
   "cell_type": "code",
   "execution_count": null,
   "metadata": {},
   "outputs": [
    {
     "name": "stdout",
     "output_type": "stream",
     "text": [
      "LCLid    0\n",
      "day      0\n",
      "hh_0     0\n",
      "hh_1     0\n",
      "hh_2     0\n",
      "hh_3     0\n",
      "hh_4     0\n",
      "hh_5     0\n",
      "hh_6     0\n",
      "hh_7     0\n",
      "hh_8     0\n",
      "hh_9     0\n",
      "hh_10    0\n",
      "hh_11    0\n",
      "hh_12    0\n",
      "hh_13    0\n",
      "hh_14    0\n",
      "hh_15    0\n",
      "hh_16    0\n",
      "hh_17    0\n",
      "hh_18    0\n",
      "hh_19    0\n",
      "hh_20    0\n",
      "hh_21    0\n",
      "hh_22    0\n",
      "hh_23    0\n",
      "hh_24    0\n",
      "hh_25    0\n",
      "hh_26    0\n",
      "hh_27    0\n",
      "hh_28    0\n",
      "hh_29    0\n",
      "hh_30    0\n",
      "hh_31    0\n",
      "hh_32    0\n",
      "hh_33    0\n",
      "hh_34    0\n",
      "hh_35    0\n",
      "hh_36    0\n",
      "hh_37    0\n",
      "hh_38    0\n",
      "hh_39    0\n",
      "hh_40    0\n",
      "hh_41    0\n",
      "hh_42    0\n",
      "hh_43    0\n",
      "hh_44    0\n",
      "hh_45    0\n",
      "hh_46    0\n",
      "hh_47    0\n",
      "dtype: int64\n"
     ]
    }
   ],
   "source": [
    "hh_columns = [col for col in hhblock_data.columns if col.startswith('hh_')] # valitaan sarakkeet, jotka alkavat hh_ kirjaimella\n",
    "hhblock_data[hh_columns] = hhblock_data[hh_columns].fillna(hhblock_data[hh_columns].median()) # täytetään puuttuvat arvot mediaanilla koska sarakkeet ovat vinoja\n",
    "print(hhblock_data.isnull().sum()) # tarkistetaan puuttuvat arvot"
   ]
  },
  {
   "cell_type": "code",
   "execution_count": null,
   "metadata": {},
   "outputs": [],
   "source": [
    "hhblock_data['day'] = pd.to_datetime(hhblock_data['day'], errors='coerce') # muutetaan day sarakkeen arvot päivämäärämuotoon"
   ]
  },
  {
   "cell_type": "code",
   "execution_count": null,
   "metadata": {},
   "outputs": [
    {
     "data": {
      "text/plain": [
       "(3469352, 50)"
      ]
     },
     "execution_count": 209,
     "metadata": {},
     "output_type": "execute_result"
    }
   ],
   "source": [
    "hhblock_data = hhblock_data.drop_duplicates() # poistetaan duplikaatit\n",
    "hhblock_data.shape"
   ]
  },
  {
   "cell_type": "code",
   "execution_count": null,
   "metadata": {},
   "outputs": [
    {
     "name": "stdout",
     "output_type": "stream",
     "text": [
      "hh_0: Outliers below -0.16, above 0.40\n",
      "hh_1: Outliers below -0.13, above 0.35\n",
      "hh_2: Outliers below -0.11, above 0.31\n",
      "hh_3: Outliers below -0.10, above 0.28\n",
      "hh_4: Outliers below -0.09, above 0.26\n",
      "hh_5: Outliers below -0.08, above 0.25\n",
      "hh_6: Outliers below -0.08, above 0.24\n",
      "hh_7: Outliers below -0.08, above 0.24\n",
      "hh_8: Outliers below -0.08, above 0.24\n",
      "hh_9: Outliers below -0.08, above 0.24\n",
      "hh_10: Outliers below -0.09, above 0.26\n",
      "hh_11: Outliers below -0.10, above 0.28\n",
      "hh_12: Outliers below -0.12, above 0.32\n",
      "hh_13: Outliers below -0.15, above 0.38\n",
      "hh_14: Outliers below -0.17, above 0.43\n",
      "hh_15: Outliers below -0.19, above 0.48\n",
      "hh_16: Outliers below -0.21, above 0.51\n",
      "hh_17: Outliers below -0.21, above 0.52\n",
      "hh_18: Outliers below -0.21, above 0.52\n",
      "hh_19: Outliers below -0.21, above 0.52\n",
      "hh_20: Outliers below -0.21, above 0.51\n",
      "hh_21: Outliers below -0.21, above 0.51\n",
      "hh_22: Outliers below -0.21, above 0.51\n",
      "hh_23: Outliers below -0.21, above 0.51\n",
      "hh_24: Outliers below -0.22, above 0.51\n",
      "hh_25: Outliers below -0.22, above 0.52\n",
      "hh_26: Outliers below -0.21, above 0.51\n",
      "hh_27: Outliers below -0.21, above 0.50\n",
      "hh_28: Outliers below -0.20, above 0.50\n",
      "hh_29: Outliers below -0.20, above 0.49\n",
      "hh_30: Outliers below -0.20, above 0.50\n",
      "hh_31: Outliers below -0.21, above 0.53\n",
      "hh_32: Outliers below -0.23, above 0.56\n",
      "hh_33: Outliers below -0.26, above 0.62\n",
      "hh_34: Outliers below -0.28, above 0.68\n",
      "hh_35: Outliers below -0.31, above 0.75\n",
      "hh_36: Outliers below -0.33, above 0.79\n",
      "hh_37: Outliers below -0.34, above 0.82\n",
      "hh_38: Outliers below -0.33, above 0.82\n",
      "hh_39: Outliers below -0.32, above 0.82\n",
      "hh_40: Outliers below -0.30, above 0.79\n",
      "hh_41: Outliers below -0.29, above 0.77\n",
      "hh_42: Outliers below -0.27, above 0.75\n",
      "hh_43: Outliers below -0.27, above 0.72\n",
      "hh_44: Outliers below -0.25, above 0.67\n",
      "hh_45: Outliers below -0.24, above 0.62\n",
      "hh_46: Outliers below -0.22, above 0.54\n",
      "hh_47: Outliers below -0.19, above 0.47\n"
     ]
    }
   ],
   "source": [
    "def detect_outliers(column): # funktio, joka etsii outlierit\n",
    "    q1 = hhblock_data[column].quantile(0.25)\n",
    "    q3 = hhblock_data[column].quantile(0.75)\n",
    "    iqr = q3 - q1\n",
    "    lower_bound = q1 - 1.5 * iqr\n",
    "    upper_bound = q3 + 1.5 * iqr\n",
    "    return lower_bound, upper_bound\n",
    "\n",
    "outlier_columns = {} # tallennetaan outlierit sanakirjaan\n",
    "for col in hh_columns:\n",
    "    lower, upper = detect_outliers(col) # etsitään outlierit\n",
    "    outlier_columns[col] = (lower, upper)\n",
    "    print(f\"{col}: Outliers below {lower:.2f}, above {upper:.2f}\")"
   ]
  },
  {
   "cell_type": "code",
   "execution_count": null,
   "metadata": {},
   "outputs": [
    {
     "data": {
      "text/plain": [
       "(1371160, 50)"
      ]
     },
     "execution_count": 211,
     "metadata": {},
     "output_type": "execute_result"
    }
   ],
   "source": [
    "for col, (lower, upper) in outlier_columns.items(): # poistetaan outlierit\n",
    "    hhblock_data = hhblock_data[(hhblock_data[col] >= lower) & (hhblock_data[col] <= upper)]\n",
    "hhblock_data.shape\n"
   ]
  },
  {
   "cell_type": "code",
   "execution_count": null,
   "metadata": {},
   "outputs": [],
   "source": [
    "hhblock_data['daily_sum'] = hhblock_data[hh_columns].sum(axis=1) # lasketaan päivittäinen summamäärä\n",
    "hhblock_data['daily_mean'] = hhblock_data[hh_columns].mean(axis=1) # lasketaan päivittäinen keskiarvo\n",
    "hhblock_data['daily_max'] = hhblock_data[hh_columns].max(axis=1) # lasketaan päivittäinen maksimi\n",
    "hhblock_data['daily_min'] = hhblock_data[hh_columns].min(axis=1) # lasketaan päivittäinen minimi\n",
    "hhblock_data['daily_std'] = hhblock_data[hh_columns].std(axis=1) # lasketaan päivittäinen keskihajonta"
   ]
  },
  {
   "cell_type": "code",
   "execution_count": null,
   "metadata": {},
   "outputs": [],
   "source": [
    "hhblock_data.to_csv('data/processed/cleaned_hhblock_data.csv', index=False) # tallennetaan puhdistettu datasetti"
   ]
  },
  {
   "cell_type": "code",
   "execution_count": null,
   "metadata": {},
   "outputs": [],
   "source": []
  },
  {
   "cell_type": "code",
   "execution_count": null,
   "metadata": {},
   "outputs": [],
   "source": []
  },
  {
   "cell_type": "code",
   "execution_count": null,
   "metadata": {},
   "outputs": [],
   "source": []
  },
  {
   "cell_type": "code",
   "execution_count": null,
   "metadata": {},
   "outputs": [],
   "source": []
  },
  {
   "cell_type": "markdown",
   "metadata": {},
   "source": [
    "## Tulo- ja ACORN-ryhmien Käyttö Tärkeimmissä Kategorioissa\n",
    "\n",
    "| **Kategoria**         | **Eniten Käyttävä Tulo** | **Vähiten Käyttävä Tulo** | **Eniten Käyttävä ACORN** | **Vähiten Käyttävä ACORN** |\n",
    "|------------------------|--------------------------|---------------------------|---------------------------|----------------------------|\n",
    "| **Rahoitus**          | Korkea tulotaso          | Matala tulotaso           | ACORN-B                   | ACORN-U                    |\n",
    "| **Digitaalisuus**      | Korkea tulotaso          | Matala tulotaso           | ACORN-C                   | ACORN-U                    |\n",
    "| **Perhe**             | Keskitulotaso            | Matala tulotaso           | ACORN-A                   | ACORN-U                    |\n",
    "| **Koulutus**          | Korkea tulotaso          | Matala tulotaso           | ACORN-A                   | ACORN-Q                    |\n",
    "| **Terveys**           | Matala tulotaso          | Korkea tulotaso           | ACORN-E                   | ACORN-L                    |\n",
    "| **Liikenne**          | Matala tulotaso          | Korkea tulotaso           | ACORN-O                   | ACORN-K                    |\n",
    "| **Ympäristö**         | Keskitulotaso            | Matala tulotaso           | ACORN-H                   | ACORN-Q                    |\n",
    "| **Yhteisön turvallisuus** | Keskitulotaso        | Korkea tulotaso           | ACORN-J                   | ACORN-U                    |\n",
    "| **Ostoskanavat**      | Korkea tulotaso          | Matala tulotaso           | ACORN-F                   | ACORN-U                    |\n",
    "| **Vapaa-aika**        | Korkea tulotaso          | Matala tulotaso           | ACORN-C                   | ACORN-U                    |\n",
    "\n",
    "## Yhteenveto\n",
    "- **Korkeat tulot**: Hyödyntävät eniten **Rahoitusta**, **Digitaalisuutta** ja **Koulutusta**.\n",
    "- **Keskitulot**: Tasapainoinen käyttö; erityisesti **Perhe** ja **Ympäristö** korostuvat.\n",
    "- **Matala tulotaso**: Käyttö keskittyy **Terveys**, **Liikenne** ja **Yhteisön turvallisuus** -kategorioihin."
   ]
  }
 ],
 "metadata": {
  "kernelspec": {
   "display_name": "currentai-env",
   "language": "python",
   "name": "python3"
  },
  "language_info": {
   "codemirror_mode": {
    "name": "ipython",
    "version": 3
   },
   "file_extension": ".py",
   "mimetype": "text/x-python",
   "name": "python",
   "nbconvert_exporter": "python",
   "pygments_lexer": "ipython3",
   "version": "3.9.20"
  }
 },
 "nbformat": 4,
 "nbformat_minor": 2
}
